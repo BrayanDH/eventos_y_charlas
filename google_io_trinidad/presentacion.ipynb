{
 "cells": [
  {
   "cell_type": "markdown",
   "metadata": {},
   "source": [
    "# Bienvenidos 👋👋👋"
   ]
  },
  {
   "cell_type": "markdown",
   "metadata": {},
   "source": [
    "# Asi se pone un titulo en mark"
   ]
  },
  {
   "cell_type": "markdown",
   "metadata": {},
   "source": [
    "## Asi un subtitulo"
   ]
  },
  {
   "cell_type": "markdown",
   "metadata": {},
   "source": [
    "### Y asi un subsubtitulo"
   ]
  },
  {
   "cell_type": "markdown",
   "metadata": {},
   "source": [
    "y asi un texto normal y con *italica* y **negrita**"
   ]
  },
  {
   "cell_type": "markdown",
   "metadata": {},
   "source": [
    "[No es una foto de una piña](https://i.imgur.com/18EtYFJ.png)\t"
   ]
  },
  {
   "cell_type": "markdown",
   "metadata": {},
   "source": [
    "![](https://i.imgur.com/OO5w0yI.png)"
   ]
  },
  {
   "cell_type": "markdown",
   "metadata": {},
   "source": [
    "# Usando python como una calculadora"
   ]
  },
  {
   "cell_type": "code",
   "execution_count": 1,
   "metadata": {},
   "outputs": [
    {
     "data": {
      "text/plain": [
       "2"
      ]
     },
     "execution_count": 1,
     "metadata": {},
     "output_type": "execute_result"
    }
   ],
   "source": [
    "1 + 1"
   ]
  },
  {
   "cell_type": "code",
   "execution_count": 2,
   "metadata": {},
   "outputs": [
    {
     "data": {
      "text/plain": [
       "1"
      ]
     },
     "execution_count": 2,
     "metadata": {},
     "output_type": "execute_result"
    }
   ],
   "source": [
    "3 - 2"
   ]
  },
  {
   "cell_type": "code",
   "execution_count": 3,
   "metadata": {},
   "outputs": [
    {
     "data": {
      "text/plain": [
       "6"
      ]
     },
     "execution_count": 3,
     "metadata": {},
     "output_type": "execute_result"
    }
   ],
   "source": [
    "4 + 2"
   ]
  },
  {
   "cell_type": "code",
   "execution_count": 4,
   "metadata": {},
   "outputs": [
    {
     "data": {
      "text/plain": [
       "2.0"
      ]
     },
     "execution_count": 4,
     "metadata": {},
     "output_type": "execute_result"
    }
   ],
   "source": [
    "4 / 2"
   ]
  },
  {
   "cell_type": "code",
   "execution_count": null,
   "metadata": {},
   "outputs": [],
   "source": [
    "4 / 0"
   ]
  },
  {
   "cell_type": "markdown",
   "metadata": {},
   "source": [
    "# Calculadora logica 🤔🤔🤔"
   ]
  },
  {
   "cell_type": "code",
   "execution_count": null,
   "metadata": {},
   "outputs": [],
   "source": [
    "4 is 2"
   ]
  },
  {
   "cell_type": "code",
   "execution_count": 9,
   "metadata": {},
   "outputs": [
    {
     "data": {
      "text/plain": [
       "False"
      ]
     },
     "execution_count": 9,
     "metadata": {},
     "output_type": "execute_result"
    }
   ],
   "source": [
    "4 == 2"
   ]
  },
  {
   "cell_type": "code",
   "execution_count": 11,
   "metadata": {},
   "outputs": [
    {
     "data": {
      "text/plain": [
       "True"
      ]
     },
     "execution_count": 11,
     "metadata": {},
     "output_type": "execute_result"
    }
   ],
   "source": [
    "4 == 4"
   ]
  },
  {
   "cell_type": "code",
   "execution_count": 12,
   "metadata": {},
   "outputs": [
    {
     "data": {
      "text/plain": [
       "True"
      ]
     },
     "execution_count": 12,
     "metadata": {},
     "output_type": "execute_result"
    }
   ],
   "source": [
    "4 != 2"
   ]
  },
  {
   "cell_type": "markdown",
   "metadata": {},
   "source": [
    "###  ----------------------------------------------------------------------------------------------------- ###"
   ]
  },
  {
   "cell_type": "markdown",
   "metadata": {},
   "source": [
    "###  ----------------------------------------------------------------------------------------------------- ###"
   ]
  },
  {
   "cell_type": "markdown",
   "metadata": {},
   "source": [
    "![](https://i.imgur.com/uGejCgD.png) "
   ]
  },
  {
   "cell_type": "markdown",
   "metadata": {},
   "source": [
    " ![](https://i.imgur.com/MzFWOK3.png) "
   ]
  },
  {
   "cell_type": "markdown",
   "metadata": {},
   "source": [
    "###  ----------------------------------------------------------------------------------------------------- ###"
   ]
  },
  {
   "cell_type": "markdown",
   "metadata": {},
   "source": [
    "###  ----------------------------------------------------------------------------------------------------- ###"
   ]
  },
  {
   "cell_type": "markdown",
   "metadata": {},
   "source": [
    " ![](https://i.imgur.com/3owd3Dd.jpg) "
   ]
  },
  {
   "cell_type": "markdown",
   "metadata": {},
   "source": [
    "###  ----------------------------------------------------------------------------------------------------- ###"
   ]
  },
  {
   "cell_type": "markdown",
   "metadata": {},
   "source": [
    "###  ----------------------------------------------------------------------------------------------------- ###"
   ]
  },
  {
   "cell_type": "markdown",
   "metadata": {},
   "source": [
    "\n",
    "<div style=\"display: flex; justify-content: center;\">\n",
    "    <img src=\"https://i.imgur.com/Mnafgv5.jpg\" alt=\"Texto alternativo\" width=\"600\">\n",
    "</div>"
   ]
  },
  {
   "cell_type": "markdown",
   "metadata": {},
   "source": [
    "###  ----------------------------------------------------------------------------------------------------- ###"
   ]
  },
  {
   "cell_type": "markdown",
   "metadata": {},
   "source": [
    "###  ----------------------------------------------------------------------------------------------------- ###"
   ]
  },
  {
   "cell_type": "markdown",
   "metadata": {},
   "source": [
    "# Cajas para guardar valores"
   ]
  },
  {
   "cell_type": "markdown",
   "metadata": {},
   "source": [
    " ![](https://i.imgur.com/VRy9xEy.png) "
   ]
  },
  {
   "cell_type": "code",
   "execution_count": 15,
   "metadata": {},
   "outputs": [
    {
     "data": {
      "text/plain": [
       "'Hola taco'"
      ]
     },
     "execution_count": 15,
     "metadata": {},
     "output_type": "execute_result"
    }
   ],
   "source": [
    "caja_de_texto = \"Hola taco\"\n",
    "caja_de_texto"
   ]
  },
  {
   "cell_type": "code",
   "execution_count": 16,
   "metadata": {},
   "outputs": [
    {
     "data": {
      "text/plain": [
       "4"
      ]
     },
     "execution_count": 16,
     "metadata": {},
     "output_type": "execute_result"
    }
   ],
   "source": [
    "caja_de_numeros = 4\n",
    "caja_de_numeros"
   ]
  },
  {
   "cell_type": "code",
   "execution_count": 19,
   "metadata": {},
   "outputs": [
    {
     "data": {
      "text/plain": [
       "4.5"
      ]
     },
     "execution_count": 19,
     "metadata": {},
     "output_type": "execute_result"
    }
   ],
   "source": [
    "caja_de_decimales = 4.5\n",
    "caja_de_decimales"
   ]
  },
  {
   "cell_type": "code",
   "execution_count": 20,
   "metadata": {},
   "outputs": [
    {
     "data": {
      "text/plain": [
       "True"
      ]
     },
     "execution_count": 20,
     "metadata": {},
     "output_type": "execute_result"
    }
   ],
   "source": [
    "caja_de_booleanos = True\n",
    "caja_de_booleanos"
   ]
  },
  {
   "cell_type": "markdown",
   "metadata": {},
   "source": [
    "###  ----------------------------------------------------------------------------------------------------- ###"
   ]
  },
  {
   "cell_type": "markdown",
   "metadata": {},
   "source": [
    "###  ----------------------------------------------------------------------------------------------------- ###"
   ]
  },
  {
   "cell_type": "markdown",
   "metadata": {},
   "source": [
    " <img src=\"https://i.imgur.com/02t5hjd.png\" alt=\"Texto alternativo\" width=\"400\" height=\"300\">  <img src=\"https://i.imgur.com/n2CEqUc.png\" alt=\"Texto alternativo\" width=\"400\" height=\"300\"> "
   ]
  },
  {
   "cell_type": "markdown",
   "metadata": {},
   "source": [
    "###  ----------------------------------------------------------------------------------------------------- ###"
   ]
  },
  {
   "cell_type": "code",
   "execution_count": null,
   "metadata": {},
   "outputs": [],
   "source": [
    "numero = 4\n",
    "numero_de_texto = \"4\"\n",
    "\n",
    "numero + numero_de_texto"
   ]
  },
  {
   "cell_type": "markdown",
   "metadata": {},
   "source": [
    "# Haciendo que los animales se presenten"
   ]
  },
  {
   "cell_type": "markdown",
   "metadata": {},
   "source": [
    "![image.png](https://i.imgur.com/QZWpoiK.png)"
   ]
  },
  {
   "cell_type": "code",
   "execution_count": 25,
   "metadata": {},
   "outputs": [
    {
     "name": "stdout",
     "output_type": "stream",
     "text": [
      "Soy un cerdo y hago Oink!\n"
     ]
    }
   ],
   "source": [
    "print(\"Soy un cerdo y hago Oink!\")"
   ]
  },
  {
   "cell_type": "markdown",
   "metadata": {},
   "source": [
    " ![](https://i.imgur.com/4fIvcek.png) "
   ]
  },
  {
   "cell_type": "markdown",
   "metadata": {},
   "source": [
    "###  ----------------------------------------------------------------------------------------------------- ###"
   ]
  },
  {
   "cell_type": "markdown",
   "metadata": {},
   "source": [
    "###  ----------------------------------------------------------------------------------------------------- ###"
   ]
  },
  {
   "cell_type": "markdown",
   "metadata": {},
   "source": [
    "# Presentando a los animales de forma dinamica"
   ]
  },
  {
   "cell_type": "code",
   "execution_count": 33,
   "metadata": {},
   "outputs": [
    {
     "name": "stdout",
     "output_type": "stream",
     "text": [
      "Soy un Vaca y hago Muhhh!!\n"
     ]
    }
   ],
   "source": [
    "animal = \"Vaca\"\n",
    "ruido = \"Muhhh!\"\n",
    "\n",
    "print(f\"Soy un {animal} y hago {ruido}!\")"
   ]
  },
  {
   "cell_type": "markdown",
   "metadata": {},
   "source": [
    "![](https://i.imgur.com/RxVrb5a.png) "
   ]
  },
  {
   "cell_type": "markdown",
   "metadata": {},
   "source": [
    "###  ----------------------------------------------------------------------------------------------------- ###"
   ]
  },
  {
   "cell_type": "markdown",
   "metadata": {},
   "source": [
    "###  ----------------------------------------------------------------------------------------------------- ###"
   ]
  },
  {
   "cell_type": "markdown",
   "metadata": {},
   "source": [
    "# Una funcion para presentar a los animales\n",
    "\n"
   ]
  },
  {
   "cell_type": "markdown",
   "metadata": {},
   "source": [
    " <img src=\"https://i.imgur.com/RxVrb5a.png\" alt=\"Texto alternativo\" width=\"300\" height=\"200\">  <img src=\"https://i.imgur.com/QZWpoiK.png\" alt=\"Texto alternativo\" width=\"300\" height=\"200\"> <img src=\"https://i.imgur.com/4fIvcek.png\" alt=\"Texto alternativo\" width=\"300\" height=\"200\"> "
   ]
  },
  {
   "cell_type": "code",
   "execution_count": 31,
   "metadata": {},
   "outputs": [],
   "source": [
    "def hacer_ruido(animal, ruido):\n",
    "    print(f\"Soy un/una {animal} y hago {ruido}!\")"
   ]
  },
  {
   "cell_type": "code",
   "execution_count": 32,
   "metadata": {},
   "outputs": [
    {
     "name": "stdout",
     "output_type": "stream",
     "text": [
      "Soy un/una Cerdo y hago Oink!!\n",
      "Soy un/una Vaca y hago Muhhh!!\n",
      "Soy un/una Cabra y hago beehh!!\n"
     ]
    }
   ],
   "source": [
    "hacer_ruido(\"Cerdo\", \"Oink!\")\n",
    "\n",
    "hacer_ruido(\"Vaca\", \"Muhhh!\")\n",
    "\n",
    "hacer_ruido(\"Cabra\", \"beehh!\")"
   ]
  },
  {
   "cell_type": "markdown",
   "metadata": {},
   "source": [
    "\n",
    " <div style=\"display: flex; justify-content: center;\">\n",
    "    <img src=\"https://i.imgur.com/k8cV1vr.jpg\" alt=\"Texto alternativo\" width=\"600\">\n",
    "</div>"
   ]
  },
  {
   "cell_type": "markdown",
   "metadata": {},
   "source": [
    "###  ----------------------------------------------------------------------------------------------------- ###"
   ]
  },
  {
   "cell_type": "markdown",
   "metadata": {},
   "source": [
    "###  ----------------------------------------------------------------------------------------------------- ###"
   ]
  },
  {
   "cell_type": "markdown",
   "metadata": {},
   "source": [
    "# Creando una clase para presentar a toda nuestra granja"
   ]
  },
  {
   "cell_type": "code",
   "execution_count": 52,
   "metadata": {},
   "outputs": [],
   "source": [
    "class Animal():\n",
    "    tipo = \"\"\n",
    "    nombre = \"\"\n",
    "    ruido = \"\"\n",
    "\n",
    "    def hacer_ruido(self):\n",
    "        print(f\"Hola soy un/una {self.tipo}, me llamo {self.nombre} y hago {self.ruido}!\")\n"
   ]
  },
  {
   "cell_type": "code",
   "execution_count": 56,
   "metadata": {},
   "outputs": [
    {
     "name": "stdout",
     "output_type": "stream",
     "text": [
      "Hola soy un/una Cerdo, me llamo Pedro y hago Oink!!\n",
      "Hola soy un/una Cerdo, me llamo Pepa y hago Oink!!\n"
     ]
    }
   ],
   "source": [
    "cerdo = Animal()\n",
    "cerdo.tipo = \"Cerdo\"\n",
    "cerdo.nombre = \"Pedro\"\n",
    "cerdo.ruido = \"Oink!\"\n",
    "\n",
    "cerdo.hacer_ruido()\n",
    "\n",
    "cerdo2 = Animal()\n",
    "cerdo2.tipo = \"Cerdo\"\n",
    "cerdo2.nombre = \"Pepa\"\n",
    "cerdo2.ruido = \"Oink!\"\n",
    "\n",
    "cerdo2.hacer_ruido()\n"
   ]
  },
  {
   "cell_type": "code",
   "execution_count": 57,
   "metadata": {},
   "outputs": [
    {
     "name": "stdout",
     "output_type": "stream",
     "text": [
      "Hola soy un/una Cabra, me llamo Cami y hago beehh!!\n",
      "Hola soy un/una Cabra, me llamo Luci y hago beehh!!\n"
     ]
    }
   ],
   "source": [
    "cabra = Animal()\n",
    "cabra.tipo = \"Cabra\"\n",
    "cabra.nombre = \"Cami\"\n",
    "cabra.ruido = \"beehh!\"\n",
    "\n",
    "cabra.hacer_ruido()\n",
    "\n",
    "cabra2 = Animal()\n",
    "cabra2.tipo = \"Cabra\"\n",
    "cabra2.nombre = \"Luci\"\n",
    "cabra2.ruido = \"beehh!\"\n",
    "\n",
    "cabra2.hacer_ruido()"
   ]
  },
  {
   "cell_type": "code",
   "execution_count": 58,
   "metadata": {},
   "outputs": [
    {
     "name": "stdout",
     "output_type": "stream",
     "text": [
      "Hola soy un/una Vaca, me llamo Lola y hago Muhhh!!\n",
      "Hola soy un/una Vaca, me llamo Lolo y hago Muhhh!!\n"
     ]
    }
   ],
   "source": [
    "vaca = Animal()\n",
    "vaca.tipo = \"Vaca\"\n",
    "vaca.nombre = \"Lola\"\n",
    "vaca.ruido = \"Muhhh!\"\n",
    "\n",
    "vaca.hacer_ruido()\n",
    "\n",
    "vaca2 = Animal()\n",
    "vaca2.tipo = \"Vaca\"\n",
    "vaca2.nombre = \"Lolo\"\n",
    "vaca2.ruido = \"Muhhh!\"\n",
    "\n",
    "vaca2.hacer_ruido()\n"
   ]
  },
  {
   "cell_type": "code",
   "execution_count": 59,
   "metadata": {},
   "outputs": [
    {
     "name": "stdout",
     "output_type": "stream",
     "text": [
      "Hola soy un/una Gallina, me llamo Pepita y hago Cocorocó!!\n"
     ]
    }
   ],
   "source": [
    "gallina = Animal()\n",
    "gallina.tipo = \"Gallina\"\n",
    "gallina.nombre = \"Pepita\"\n",
    "gallina.ruido = \"Cocorocó!\"\n",
    "\n",
    "gallina.hacer_ruido()"
   ]
  }
 ],
 "metadata": {
  "kernelspec": {
   "display_name": "Python 3",
   "language": "python",
   "name": "python3"
  },
  "language_info": {
   "codemirror_mode": {
    "name": "ipython",
    "version": 3
   },
   "file_extension": ".py",
   "mimetype": "text/x-python",
   "name": "python",
   "nbconvert_exporter": "python",
   "pygments_lexer": "ipython3",
   "version": "3.8.0"
  },
  "orig_nbformat": 4
 },
 "nbformat": 4,
 "nbformat_minor": 2
}
