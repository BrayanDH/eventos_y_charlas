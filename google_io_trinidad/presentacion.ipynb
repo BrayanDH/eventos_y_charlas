{
 "cells": [
  {
   "cell_type": "markdown",
   "metadata": {},
   "source": [
    "# Bienvenidos 👋👋👋"
   ]
  },
  {
   "cell_type": "markdown",
   "metadata": {},
   "source": [
    "# Asi se pone un titulo en mark"
   ]
  },
  {
   "cell_type": "markdown",
   "metadata": {},
   "source": [
    "## Asi un subtitulo"
   ]
  },
  {
   "cell_type": "markdown",
   "metadata": {},
   "source": [
    "### Y asi un subsubtitulo"
   ]
  },
  {
   "cell_type": "markdown",
   "metadata": {},
   "source": [
    "y asi un texto normal y con *italica* y **negrita**"
   ]
  },
  {
   "cell_type": "markdown",
   "metadata": {},
   "source": [
    "[No es una foto de una piña](https://i.imgur.com/18EtYFJ.png)\t"
   ]
  },
  {
   "cell_type": "markdown",
   "metadata": {},
   "source": [
    "###  ----------------------------------------------------------------------------------------------------- ###"
   ]
  },
  {
   "cell_type": "markdown",
   "metadata": {},
   "source": [
    "###  ----------------------------------------------------------------------------------------------------- ###"
   ]
  },
  {
   "cell_type": "markdown",
   "metadata": {},
   "source": [
    "###  ----------------------------------------------------------------------------------------------------- ###"
   ]
  },
  {
   "cell_type": "markdown",
   "metadata": {},
   "source": [
    "###  ----------------------------------------------------------------------------------------------------- ###"
   ]
  },
  {
   "cell_type": "markdown",
   "metadata": {},
   "source": [
    "![](https://i.imgur.com/OO5w0yI.png)"
   ]
  },
  {
   "cell_type": "markdown",
   "metadata": {},
   "source": [
    "###  ----------------------------------------------------------------------------------------------------- ###"
   ]
  },
  {
   "cell_type": "markdown",
   "metadata": {},
   "source": [
    "###  ----------------------------------------------------------------------------------------------------- ###"
   ]
  },
  {
   "cell_type": "markdown",
   "metadata": {},
   "source": [
    "# Usando python como una calculadora"
   ]
  },
  {
   "cell_type": "code",
   "execution_count": 1,
   "metadata": {},
   "outputs": [
    {
     "data": {
      "text/plain": [
       "2"
      ]
     },
     "execution_count": 1,
     "metadata": {},
     "output_type": "execute_result"
    }
   ],
   "source": [
    "1 + 1"
   ]
  },
  {
   "cell_type": "code",
   "execution_count": 2,
   "metadata": {},
   "outputs": [
    {
     "data": {
      "text/plain": [
       "1"
      ]
     },
     "execution_count": 2,
     "metadata": {},
     "output_type": "execute_result"
    }
   ],
   "source": [
    "3 - 2"
   ]
  },
  {
   "cell_type": "code",
   "execution_count": 3,
   "metadata": {},
   "outputs": [
    {
     "data": {
      "text/plain": [
       "6"
      ]
     },
     "execution_count": 3,
     "metadata": {},
     "output_type": "execute_result"
    }
   ],
   "source": [
    "4 + 2"
   ]
  },
  {
   "cell_type": "code",
   "execution_count": 4,
   "metadata": {},
   "outputs": [
    {
     "data": {
      "text/plain": [
       "2.0"
      ]
     },
     "execution_count": 4,
     "metadata": {},
     "output_type": "execute_result"
    }
   ],
   "source": [
    "4 / 2"
   ]
  },
  {
   "cell_type": "code",
   "execution_count": null,
   "metadata": {},
   "outputs": [],
   "source": [
    "4 / 0"
   ]
  },
  {
   "cell_type": "markdown",
   "metadata": {},
   "source": [
    "# Calculadora logica 🤔🤔🤔"
   ]
  },
  {
   "cell_type": "code",
   "execution_count": 7,
   "metadata": {},
   "outputs": [
    {
     "name": "stderr",
     "output_type": "stream",
     "text": [
      "<>:1: SyntaxWarning: \"is\" with a literal. Did you mean \"==\"?\n",
      "<>:1: SyntaxWarning: \"is\" with a literal. Did you mean \"==\"?\n",
      "C:\\Users\\Brayan\\AppData\\Local\\Temp\\ipykernel_18568\\3957363989.py:1: SyntaxWarning: \"is\" with a literal. Did you mean \"==\"?\n",
      "  4 is 2\n"
     ]
    },
    {
     "data": {
      "text/plain": [
       "False"
      ]
     },
     "execution_count": 7,
     "metadata": {},
     "output_type": "execute_result"
    }
   ],
   "source": [
    "4 is 2"
   ]
  },
  {
   "cell_type": "code",
   "execution_count": 9,
   "metadata": {},
   "outputs": [
    {
     "data": {
      "text/plain": [
       "False"
      ]
     },
     "execution_count": 9,
     "metadata": {},
     "output_type": "execute_result"
    }
   ],
   "source": [
    "4 == 2"
   ]
  },
  {
   "cell_type": "code",
   "execution_count": 11,
   "metadata": {},
   "outputs": [
    {
     "data": {
      "text/plain": [
       "True"
      ]
     },
     "execution_count": 11,
     "metadata": {},
     "output_type": "execute_result"
    }
   ],
   "source": [
    "4 == 4"
   ]
  },
  {
   "cell_type": "code",
   "execution_count": 12,
   "metadata": {},
   "outputs": [
    {
     "data": {
      "text/plain": [
       "True"
      ]
     },
     "execution_count": 12,
     "metadata": {},
     "output_type": "execute_result"
    }
   ],
   "source": [
    "4 != 2"
   ]
  },
  {
   "cell_type": "markdown",
   "metadata": {},
   "source": [
    "###  ----------------------------------------------------------------------------------------------------- ###"
   ]
  },
  {
   "cell_type": "markdown",
   "metadata": {},
   "source": [
    "###  ----------------------------------------------------------------------------------------------------- ###"
   ]
  },
  {
   "cell_type": "markdown",
   "metadata": {},
   "source": [
    "![](https://i.imgur.com/uGejCgD.png) "
   ]
  },
  {
   "cell_type": "markdown",
   "metadata": {},
   "source": [
    " ![](https://i.imgur.com/MzFWOK3.png) "
   ]
  },
  {
   "cell_type": "markdown",
   "metadata": {},
   "source": [
    "###  ----------------------------------------------------------------------------------------------------- ###"
   ]
  },
  {
   "cell_type": "markdown",
   "metadata": {},
   "source": [
    "###  ----------------------------------------------------------------------------------------------------- ###"
   ]
  },
  {
   "cell_type": "markdown",
   "metadata": {},
   "source": [
    " ![](https://i.imgur.com/3owd3Dd.jpg) "
   ]
  },
  {
   "cell_type": "markdown",
   "metadata": {},
   "source": [
    "###  ----------------------------------------------------------------------------------------------------- ###"
   ]
  },
  {
   "cell_type": "markdown",
   "metadata": {},
   "source": [
    "###  ----------------------------------------------------------------------------------------------------- ###"
   ]
  },
  {
   "cell_type": "markdown",
   "metadata": {},
   "source": [
    "\n",
    "<div style=\"display: flex; justify-content: center;\">\n",
    "    <img src=\"https://i.imgur.com/Mnafgv5.jpg\" alt=\"Texto alternativo\" width=\"600\">\n",
    "</div>"
   ]
  },
  {
   "cell_type": "markdown",
   "metadata": {},
   "source": [
    "###  ----------------------------------------------------------------------------------------------------- ###"
   ]
  },
  {
   "cell_type": "markdown",
   "metadata": {},
   "source": [
    "###  ----------------------------------------------------------------------------------------------------- ###"
   ]
  },
  {
   "cell_type": "markdown",
   "metadata": {},
   "source": [
    "# Cajas para guardar valores"
   ]
  },
  {
   "cell_type": "markdown",
   "metadata": {},
   "source": [
    " ![](https://i.imgur.com/VRy9xEy.png) "
   ]
  },
  {
   "cell_type": "code",
   "execution_count": 15,
   "metadata": {},
   "outputs": [
    {
     "data": {
      "text/plain": [
       "'Hola taco'"
      ]
     },
     "execution_count": 15,
     "metadata": {},
     "output_type": "execute_result"
    }
   ],
   "source": [
    "caja_de_texto = \"Hola taco\"\n",
    "caja_de_texto"
   ]
  },
  {
   "cell_type": "code",
   "execution_count": 16,
   "metadata": {},
   "outputs": [
    {
     "data": {
      "text/plain": [
       "4"
      ]
     },
     "execution_count": 16,
     "metadata": {},
     "output_type": "execute_result"
    }
   ],
   "source": [
    "caja_de_numeros = 4\n",
    "caja_de_numeros"
   ]
  },
  {
   "cell_type": "code",
   "execution_count": 19,
   "metadata": {},
   "outputs": [
    {
     "data": {
      "text/plain": [
       "4.5"
      ]
     },
     "execution_count": 19,
     "metadata": {},
     "output_type": "execute_result"
    }
   ],
   "source": [
    "caja_de_decimales = 4.5\n",
    "caja_de_decimales"
   ]
  },
  {
   "cell_type": "code",
   "execution_count": 20,
   "metadata": {},
   "outputs": [
    {
     "data": {
      "text/plain": [
       "True"
      ]
     },
     "execution_count": 20,
     "metadata": {},
     "output_type": "execute_result"
    }
   ],
   "source": [
    "caja_de_booleanos = True\n",
    "caja_de_booleanos"
   ]
  },
  {
   "cell_type": "markdown",
   "metadata": {},
   "source": [
    "###  ----------------------------------------------------------------------------------------------------- ###"
   ]
  },
  {
   "cell_type": "markdown",
   "metadata": {},
   "source": [
    "###  ----------------------------------------------------------------------------------------------------- ###"
   ]
  },
  {
   "cell_type": "markdown",
   "metadata": {},
   "source": [
    " <img src=\"https://i.imgur.com/02t5hjd.png\" alt=\"Texto alternativo\" width=\"400\" height=\"300\">  <img src=\"https://i.imgur.com/n2CEqUc.png\" alt=\"Texto alternativo\" width=\"400\" height=\"300\"> "
   ]
  },
  {
   "cell_type": "markdown",
   "metadata": {},
   "source": [
    "###  ----------------------------------------------------------------------------------------------------- ###"
   ]
  },
  {
   "cell_type": "code",
   "execution_count": null,
   "metadata": {},
   "outputs": [],
   "source": [
    "numero = 4\n",
    "numero_de_texto = \"4\"\n",
    "\n",
    "numero + numero_de_texto"
   ]
  },
  {
   "cell_type": "markdown",
   "metadata": {},
   "source": [
    "# Haciendo que los animales se presenten"
   ]
  },
  {
   "cell_type": "markdown",
   "metadata": {},
   "source": [
    "![image.png](https://i.imgur.com/QZWpoiK.png)"
   ]
  },
  {
   "cell_type": "code",
   "execution_count": 25,
   "metadata": {},
   "outputs": [
    {
     "name": "stdout",
     "output_type": "stream",
     "text": [
      "Soy un cerdo y hago Oink!\n"
     ]
    }
   ],
   "source": [
    "print(\"Soy un cerdo y hago Oink!\")"
   ]
  },
  {
   "cell_type": "markdown",
   "metadata": {},
   "source": [
    " ![](https://i.imgur.com/4fIvcek.png) "
   ]
  },
  {
   "cell_type": "markdown",
   "metadata": {},
   "source": [
    "###  ----------------------------------------------------------------------------------------------------- ###"
   ]
  },
  {
   "cell_type": "markdown",
   "metadata": {},
   "source": [
    "###  ----------------------------------------------------------------------------------------------------- ###"
   ]
  },
  {
   "cell_type": "markdown",
   "metadata": {},
   "source": [
    "# Presentando a los animales de forma dinamica"
   ]
  },
  {
   "cell_type": "code",
   "execution_count": 33,
   "metadata": {},
   "outputs": [
    {
     "name": "stdout",
     "output_type": "stream",
     "text": [
      "Soy un Vaca y hago Muhhh!!\n"
     ]
    }
   ],
   "source": [
    "animal = \"Vaca\"\n",
    "ruido = \"Muhhh!\"\n",
    "\n",
    "print(f\"Soy un {animal} y hago {ruido}!\")"
   ]
  },
  {
   "cell_type": "markdown",
   "metadata": {},
   "source": [
    "![](https://i.imgur.com/RxVrb5a.png) "
   ]
  },
  {
   "cell_type": "markdown",
   "metadata": {},
   "source": [
    "###  ----------------------------------------------------------------------------------------------------- ###"
   ]
  },
  {
   "cell_type": "markdown",
   "metadata": {},
   "source": [
    "###  ----------------------------------------------------------------------------------------------------- ###"
   ]
  },
  {
   "cell_type": "markdown",
   "metadata": {},
   "source": [
    "# Una funcion para presentar a los animales\n",
    "\n"
   ]
  },
  {
   "cell_type": "markdown",
   "metadata": {},
   "source": [
    " <img src=\"https://i.imgur.com/RxVrb5a.png\" alt=\"Texto alternativo\" width=\"300\" height=\"200\">  <img src=\"https://i.imgur.com/QZWpoiK.png\" alt=\"Texto alternativo\" width=\"300\" height=\"200\"> <img src=\"https://i.imgur.com/4fIvcek.png\" alt=\"Texto alternativo\" width=\"300\" height=\"200\"> "
   ]
  },
  {
   "cell_type": "code",
   "execution_count": 31,
   "metadata": {},
   "outputs": [],
   "source": [
    "def hacer_ruido(animal, ruido):\n",
    "    print(f\"Soy un/una {animal} y hago {ruido}!\")"
   ]
  },
  {
   "cell_type": "code",
   "execution_count": 32,
   "metadata": {},
   "outputs": [
    {
     "name": "stdout",
     "output_type": "stream",
     "text": [
      "Soy un/una Cerdo y hago Oink!!\n",
      "Soy un/una Vaca y hago Muhhh!!\n",
      "Soy un/una Cabra y hago beehh!!\n"
     ]
    }
   ],
   "source": [
    "hacer_ruido(\"Cerdo\", \"Oink!\")\n",
    "\n",
    "hacer_ruido(\"Vaca\", \"Muhhh!\")\n",
    "\n",
    "hacer_ruido(\"Cabra\", \"beehh!\")"
   ]
  },
  {
   "cell_type": "markdown",
   "metadata": {},
   "source": [
    "\n",
    " <div style=\"display: flex; justify-content: center;\">\n",
    "    <img src=\"https://i.imgur.com/k8cV1vr.jpg\" alt=\"Texto alternativo\" width=\"600\">\n",
    "</div>"
   ]
  },
  {
   "cell_type": "markdown",
   "metadata": {},
   "source": [
    "###  ----------------------------------------------------------------------------------------------------- ###"
   ]
  },
  {
   "cell_type": "markdown",
   "metadata": {},
   "source": [
    "###  ----------------------------------------------------------------------------------------------------- ###"
   ]
  },
  {
   "cell_type": "markdown",
   "metadata": {},
   "source": [
    "# Creando una clase para presentar a toda nuestra granja"
   ]
  },
  {
   "cell_type": "code",
   "execution_count": 1,
   "metadata": {},
   "outputs": [],
   "source": [
    "class Animal():\n",
    "    tipo = \"\"\n",
    "    nombre = \"\"\n",
    "    ruido = \"\"\n",
    "\n",
    "    def hacer_ruido(self):\n",
    "        print(f\"Hola soy un/una {self.tipo}, me llamo {self.nombre} y hago {self.ruido}!\")\n"
   ]
  },
  {
   "cell_type": "code",
   "execution_count": 2,
   "metadata": {},
   "outputs": [
    {
     "name": "stdout",
     "output_type": "stream",
     "text": [
      "Hola soy un/una Cerdo, me llamo Pedro y hago Oink!!\n",
      "Hola soy un/una Cerdo, me llamo Pepa y hago Oink!!\n"
     ]
    }
   ],
   "source": [
    "cerdo = Animal()\n",
    "cerdo.tipo = \"Cerdo\"\n",
    "cerdo.nombre = \"Pedro\"\n",
    "cerdo.ruido = \"Oink!\"\n",
    "\n",
    "cerdo.hacer_ruido()\n",
    "\n",
    "cerdo2 = Animal()\n",
    "cerdo2.tipo = \"Cerdo\"\n",
    "cerdo2.nombre = \"Pepa\"\n",
    "cerdo2.ruido = \"Oink!\"\n",
    "\n",
    "cerdo2.hacer_ruido()\n"
   ]
  },
  {
   "cell_type": "code",
   "execution_count": 3,
   "metadata": {},
   "outputs": [
    {
     "name": "stdout",
     "output_type": "stream",
     "text": [
      "Hola soy un/una Cabra, me llamo Cami y hago beehh!!\n",
      "Hola soy un/una Cabra, me llamo Luci y hago beehh!!\n"
     ]
    }
   ],
   "source": [
    "cabra = Animal()\n",
    "cabra.tipo = \"Cabra\"\n",
    "cabra.nombre = \"Cami\"\n",
    "cabra.ruido = \"beehh!\"\n",
    "\n",
    "cabra.hacer_ruido()\n",
    "\n",
    "cabra2 = Animal()\n",
    "cabra2.tipo = \"Cabra\"\n",
    "cabra2.nombre = \"Luci\"\n",
    "cabra2.ruido = \"beehh!\"\n",
    "\n",
    "cabra2.hacer_ruido()"
   ]
  },
  {
   "cell_type": "code",
   "execution_count": 4,
   "metadata": {},
   "outputs": [
    {
     "name": "stdout",
     "output_type": "stream",
     "text": [
      "Hola soy un/una Vaca, me llamo Lola y hago Muhhh!!\n",
      "Hola soy un/una Vaca, me llamo Lolo y hago Muhhh!!\n"
     ]
    }
   ],
   "source": [
    "vaca = Animal()\n",
    "vaca.tipo = \"Vaca\"\n",
    "vaca.nombre = \"Lola\"\n",
    "vaca.ruido = \"Muhhh!\"\n",
    "\n",
    "vaca.hacer_ruido()\n",
    "\n",
    "vaca2 = Animal()\n",
    "vaca2.tipo = \"Vaca\"\n",
    "vaca2.nombre = \"Lolo\"\n",
    "vaca2.ruido = \"Muhhh!\"\n",
    "\n",
    "vaca2.hacer_ruido()\n"
   ]
  },
  {
   "cell_type": "code",
   "execution_count": 5,
   "metadata": {},
   "outputs": [
    {
     "name": "stdout",
     "output_type": "stream",
     "text": [
      "Hola soy un/una Gallina, me llamo Pepita y hago Cocorocó!!\n"
     ]
    }
   ],
   "source": [
    "gallina = Animal()\n",
    "gallina.tipo = \"Gallina\"\n",
    "gallina.nombre = \"Pepita\"\n",
    "gallina.ruido = \"Cocorocó!\"\n",
    "\n",
    "gallina.hacer_ruido()"
   ]
  },
  {
   "cell_type": "markdown",
   "metadata": {},
   "source": [
    " ![](https://i.imgur.com/FZNakes.png) "
   ]
  },
  {
   "cell_type": "markdown",
   "metadata": {},
   "source": [
    "###  ----------------------------------------------------------------------------------------------------- ###"
   ]
  },
  {
   "cell_type": "markdown",
   "metadata": {},
   "source": [
    "###  ----------------------------------------------------------------------------------------------------- ###"
   ]
  },
  {
   "cell_type": "markdown",
   "metadata": {},
   "source": [
    "###  ----------------------------------------------------------------------------------------------------- ###"
   ]
  },
  {
   "cell_type": "markdown",
   "metadata": {},
   "source": [
    "###  ----------------------------------------------------------------------------------------------------- ###"
   ]
  },
  {
   "cell_type": "markdown",
   "metadata": {},
   "source": [
    "# Personajes en stardew valley"
   ]
  },
  {
   "cell_type": "markdown",
   "metadata": {},
   "source": [
    "\n",
    " <div style=\"display: flex; justify-content: center;\">\n",
    "    <img src=\"https://i.imgur.com/B4r6gcE.png\" alt=\"Texto alternativo\" width=\"700\">\n",
    "</div>"
   ]
  },
  {
   "cell_type": "code",
   "execution_count": 79,
   "metadata": {},
   "outputs": [
    {
     "data": {
      "text/plain": [
       "'Abigail'"
      ]
     },
     "execution_count": 79,
     "metadata": {},
     "output_type": "execute_result"
    }
   ],
   "source": [
    "personaje_1 = \"Abigail\"\n",
    "personaje_2 = \"Alex\"\n",
    "personaje_3 = \"Caroline\"\n",
    "personaje_4 = \"Clint\"\n",
    "personaje_5 = \"Demetrius\"\n",
    "\n",
    "personaje_1"
   ]
  },
  {
   "cell_type": "code",
   "execution_count": 80,
   "metadata": {},
   "outputs": [
    {
     "data": {
      "text/plain": [
       "'Abigail'"
      ]
     },
     "execution_count": 80,
     "metadata": {},
     "output_type": "execute_result"
    }
   ],
   "source": [
    "personaje_1"
   ]
  },
  {
   "cell_type": "code",
   "execution_count": 81,
   "metadata": {},
   "outputs": [
    {
     "data": {
      "text/plain": [
       "'Alex'"
      ]
     },
     "execution_count": 81,
     "metadata": {},
     "output_type": "execute_result"
    }
   ],
   "source": [
    "personaje_2"
   ]
  },
  {
   "cell_type": "code",
   "execution_count": 82,
   "metadata": {},
   "outputs": [
    {
     "data": {
      "text/plain": [
       "'Caroline'"
      ]
     },
     "execution_count": 82,
     "metadata": {},
     "output_type": "execute_result"
    }
   ],
   "source": [
    "personaje_3"
   ]
  },
  {
   "cell_type": "markdown",
   "metadata": {},
   "source": [
    "# Lista con los personajes de stardew valley"
   ]
  },
  {
   "cell_type": "code",
   "execution_count": 99,
   "metadata": {},
   "outputs": [
    {
     "data": {
      "text/plain": [
       "['Abigail',\n",
       " 'Alex',\n",
       " 'Caroline',\n",
       " 'Clint',\n",
       " 'Demetrius',\n",
       " 'Dwarf',\n",
       " 'Elliott',\n",
       " 'Emily',\n",
       " 'Evelyn',\n",
       " 'George']"
      ]
     },
     "execution_count": 99,
     "metadata": {},
     "output_type": "execute_result"
    }
   ],
   "source": [
    "personajes_stardew_valley = [\n",
    "    \"Abigail\",\n",
    "    \"Alex\",\n",
    "    \"Caroline\",\n",
    "    \"Clint\",\n",
    "    \"Demetrius\",\n",
    "    \"Dwarf\",\n",
    "    \"Elliott\",\n",
    "    \"Emily\",\n",
    "    \"Evelyn\",\n",
    "    \"George\",\n",
    "]\n",
    "\n",
    "personajes_stardew_valley"
   ]
  },
  {
   "cell_type": "code",
   "execution_count": 74,
   "metadata": {},
   "outputs": [
    {
     "data": {
      "text/plain": [
       "'Abigail'"
      ]
     },
     "execution_count": 74,
     "metadata": {},
     "output_type": "execute_result"
    }
   ],
   "source": [
    "personajes_stardew_valley[0]"
   ]
  },
  {
   "cell_type": "code",
   "execution_count": 75,
   "metadata": {},
   "outputs": [
    {
     "data": {
      "text/plain": [
       "'Alex'"
      ]
     },
     "execution_count": 75,
     "metadata": {},
     "output_type": "execute_result"
    }
   ],
   "source": [
    "personajes_stardew_valley[1]"
   ]
  },
  {
   "cell_type": "markdown",
   "metadata": {},
   "source": [
    "# Mostrando todos mis personajes con un for"
   ]
  },
  {
   "cell_type": "code",
   "execution_count": 100,
   "metadata": {},
   "outputs": [
    {
     "name": "stdout",
     "output_type": "stream",
     "text": [
      "Abigail\n",
      "Alex\n",
      "Caroline\n",
      "Clint\n",
      "Demetrius\n",
      "Dwarf\n",
      "Elliott\n",
      "Emily\n",
      "Evelyn\n",
      "George\n"
     ]
    }
   ],
   "source": [
    "for personaje in personajes_stardew_valley:\n",
    "    print(personaje)"
   ]
  },
  {
   "cell_type": "code",
   "execution_count": 66,
   "metadata": {},
   "outputs": [
    {
     "name": "stdout",
     "output_type": "stream",
     "text": [
      "Hola soy  Abigail y me gusta Stardew Valley!\n",
      "Hola soy  Alex y me gusta Stardew Valley!\n",
      "Hola soy  Caroline y me gusta Stardew Valley!\n",
      "Hola soy  Clint y me gusta Stardew Valley!\n",
      "Hola soy  Demetrius y me gusta Stardew Valley!\n",
      "Hola soy  Dwarf y me gusta Stardew Valley!\n",
      "Hola soy  Elliott y me gusta Stardew Valley!\n",
      "Hola soy  Emily y me gusta Stardew Valley!\n",
      "Hola soy  Evelyn y me gusta Stardew Valley!\n",
      "Hola soy  George y me gusta Stardew Valley!\n"
     ]
    }
   ],
   "source": [
    "for personaje in personajes_stardew_valley:\n",
    "    print(f\"Hola soy  {personaje} y me gusta Stardew Valley!\")"
   ]
  },
  {
   "cell_type": "code",
   "execution_count": 67,
   "metadata": {},
   "outputs": [
    {
     "name": "stdout",
     "output_type": "stream",
     "text": [
      "Hola soy  Abigail y soy el personaje número 1\n",
      "Hola soy  Alex y soy el personaje número 2\n",
      "Hola soy  Caroline y soy el personaje número 3\n",
      "Hola soy  Clint y soy el personaje número 4\n",
      "Hola soy  Demetrius y soy el personaje número 5\n",
      "Hola soy  Dwarf y soy el personaje número 6\n",
      "Hola soy  Elliott y soy el personaje número 7\n",
      "Hola soy  Emily y soy el personaje número 8\n",
      "Hola soy  Evelyn y soy el personaje número 9\n",
      "Hola soy  George y soy el personaje número 10\n"
     ]
    }
   ],
   "source": [
    "contador = 1\n",
    "for personaje in personajes_stardew_valley:\n",
    "    print(f\"Hola soy  {personaje} y soy el personaje número {contador}\")\n",
    "    contador = contador + 1"
   ]
  },
  {
   "cell_type": "code",
   "execution_count": 88,
   "metadata": {},
   "outputs": [],
   "source": [
    "personajes_stardew_valley = [\n",
    "    [1, \"Abigail\"],\n",
    "    [2, \"Alex\"],\n",
    "    [3, \"Caroline\"],\n",
    "    [4, \"Clint\"],\n",
    "    [5, \"Demetrius\"],\n",
    "    [6, \"Dwarf\"],\n",
    "    [7, \"Elliott\"],\n",
    "    [8, \"Emily\"],\n",
    "    [9, \"Evelyn\"],\n",
    "    [10, \"George\"],\n",
    "    ]"
   ]
  },
  {
   "cell_type": "markdown",
   "metadata": {},
   "source": [
    " <div style=\"display: flex; justify-content: center;\">\n",
    "    <img src=\"https://i.imgur.com/2ImVy8s.png\" alt=\"Texto alternativo\" width=\"700\">\n",
    "</div>"
   ]
  },
  {
   "cell_type": "code",
   "execution_count": 101,
   "metadata": {},
   "outputs": [
    {
     "data": {
      "text/plain": [
       "'Abigail'"
      ]
     },
     "execution_count": 101,
     "metadata": {},
     "output_type": "execute_result"
    }
   ],
   "source": [
    "# primer persnaje \n",
    "personajes_stardew_valley[0]\n"
   ]
  },
  {
   "cell_type": "code",
   "execution_count": 102,
   "metadata": {},
   "outputs": [
    {
     "data": {
      "text/plain": [
       "'Caroline'"
      ]
     },
     "execution_count": 102,
     "metadata": {},
     "output_type": "execute_result"
    }
   ],
   "source": [
    "# ver el personaje y su id\n",
    "personajes_stardew_valley[2]\n"
   ]
  },
  {
   "cell_type": "code",
   "execution_count": 91,
   "metadata": {},
   "outputs": [
    {
     "data": {
      "text/plain": [
       "3"
      ]
     },
     "execution_count": 91,
     "metadata": {},
     "output_type": "execute_result"
    }
   ],
   "source": [
    "# ver el id del personaje\n",
    "personajes_stardew_valley[2][0]\n",
    "\n"
   ]
  },
  {
   "cell_type": "code",
   "execution_count": 92,
   "metadata": {},
   "outputs": [
    {
     "data": {
      "text/plain": [
       "'Caroline'"
      ]
     },
     "execution_count": 92,
     "metadata": {},
     "output_type": "execute_result"
    }
   ],
   "source": [
    "# ver el nombre del personaje\n",
    "personajes_stardew_valley[2][1]"
   ]
  },
  {
   "cell_type": "code",
   "execution_count": 97,
   "metadata": {},
   "outputs": [
    {
     "name": "stdout",
     "output_type": "stream",
     "text": [
      "Hola soy  Abigail y soy el personaje número 1\n",
      "Hola soy  Alex y soy el personaje número 2\n",
      "Hola soy  Caroline y soy el personaje número 3\n",
      "Hola soy  Clint y soy el personaje número 4\n",
      "Hola soy  Demetrius y soy el personaje número 5\n",
      "Hola soy  Dwarf y soy el personaje número 6\n",
      "Hola soy  Elliott y soy el personaje número 7\n",
      "Hola soy  Emily y soy el personaje número 8\n",
      "Hola soy  Evelyn y soy el personaje número 9\n",
      "Hola soy  George y soy el personaje número 10\n"
     ]
    }
   ],
   "source": [
    "for personaje in personajes_stardew_valley:\n",
    "    print(f\"Hola soy  {personaje[1]} y soy el personaje número {personaje[0]}\")"
   ]
  },
  {
   "cell_type": "markdown",
   "metadata": {},
   "source": [
    "###  ----------------------------------------------------------------------------------------------------- ###"
   ]
  },
  {
   "cell_type": "markdown",
   "metadata": {},
   "source": [
    "###  ----------------------------------------------------------------------------------------------------- ###"
   ]
  },
  {
   "cell_type": "markdown",
   "metadata": {},
   "source": [
    "###  ----------------------------------------------------------------------------------------------------- ###"
   ]
  },
  {
   "cell_type": "markdown",
   "metadata": {},
   "source": [
    "###  ----------------------------------------------------------------------------------------------------- ###"
   ]
  },
  {
   "cell_type": "markdown",
   "metadata": {},
   "source": [
    "# Personajes y sus gustos"
   ]
  },
  {
   "cell_type": "markdown",
   "metadata": {},
   "source": [
    " <div style=\"display: flex; justify-content: center;\">\n",
    "    <img src=\"https://i.imgur.com/yWjBjql.png\" alt=\"Texto alternativo\" width=\"700\">\n",
    "</div>"
   ]
  },
  {
   "cell_type": "markdown",
   "metadata": {},
   "source": [
    "## Diccionarios con los gustos de los personajes"
   ]
  },
  {
   "cell_type": "code",
   "execution_count": 104,
   "metadata": {},
   "outputs": [],
   "source": [
    "personajes_dic = {\n",
    "    \"Abigail\": \"Juegos de rol\",\n",
    "    \"Alex\": \"Deportes\",\n",
    "    \"Caroline\": \"Flores\",\n",
    "    \"Clint\": \"Minería\",\n",
    "    \"Demetrius\": \"Investigación científica\",\n",
    "    \"Dwarf\": \"Excavar tesoros\",\n",
    "    \"Elliott\": \"Escritura\",\n",
    "    \"Emily\": \"Diseño de moda\",\n",
    "    \"Evelyn\": \"Tejer\",\n",
    "    \"George\": \"Pesca\",\n",
    "}\n"
   ]
  },
  {
   "cell_type": "code",
   "execution_count": 105,
   "metadata": {},
   "outputs": [
    {
     "data": {
      "text/plain": [
       "'Juegos de rol'"
      ]
     },
     "execution_count": 105,
     "metadata": {},
     "output_type": "execute_result"
    }
   ],
   "source": [
    "# ver el hobbie de Abigail\n",
    "personajes_dic[\"Abigail\"]"
   ]
  },
  {
   "cell_type": "code",
   "execution_count": 106,
   "metadata": {},
   "outputs": [
    {
     "data": {
      "text/plain": [
       "'Deportes'"
      ]
     },
     "execution_count": 106,
     "metadata": {},
     "output_type": "execute_result"
    }
   ],
   "source": [
    "# ver el hobbie de Alex\n",
    "personajes_dic[\"Alex\"]"
   ]
  },
  {
   "cell_type": "code",
   "execution_count": 157,
   "metadata": {},
   "outputs": [
    {
     "name": "stdout",
     "output_type": "stream",
     "text": [
      "Hola soy  Abigail y me gusta Juegos de rol\n",
      "Hola soy  Alex y me gusta Deportes\n",
      "Hola soy  Caroline y me gusta Flores\n",
      "Hola soy  Clint y me gusta Minería\n",
      "Hola soy  Demetrius y me gusta Investigación científica\n",
      "Hola soy  Dwarf y me gusta Excavar tesoros\n",
      "Hola soy  Elliott y me gusta Escritura\n",
      "Hola soy  Emily y me gusta Diseño de moda\n",
      "Hola soy  Evelyn y me gusta Tejer\n",
      "Hola soy  George y me gusta Pesca\n"
     ]
    }
   ],
   "source": [
    "for personaje in personajes_dic:\n",
    "    print(f\"Hola soy  {personaje} y me gusta {personajes_dic[personaje]}\")"
   ]
  },
  {
   "cell_type": "markdown",
   "metadata": {},
   "source": [
    "# Evaluando gustos de los personajes"
   ]
  },
  {
   "cell_type": "markdown",
   "metadata": {},
   "source": [
    " <div style=\"display: flex; justify-content: center;\">\n",
    "    <img src=\"https://i.imgur.com/2vIksds.jpg\" alt=\"Texto alternativo\" width=\"800\">\n",
    "</div>"
   ]
  },
  {
   "cell_type": "code",
   "execution_count": 145,
   "metadata": {},
   "outputs": [
    {
     "name": "stdout",
     "output_type": "stream",
     "text": [
      "Abigail es una gamer!\n"
     ]
    }
   ],
   "source": [
    "if personajes_dic[\"Abigail\"] == \"Juegos de rol\":\n",
    "     print(\"Abigail es una gamer!\")"
   ]
  },
  {
   "cell_type": "code",
   "execution_count": 164,
   "metadata": {},
   "outputs": [
    {
     "name": "stdout",
     "output_type": "stream",
     "text": [
      "Le gusta\n"
     ]
    }
   ],
   "source": [
    "if personajes_dic[\"Abigail\"] == \"Juegos de rol\":\n",
    "     print(\"Le gusta\")\n",
    "else:\n",
    "    print(\"No le gusta\")"
   ]
  },
  {
   "cell_type": "code",
   "execution_count": 155,
   "metadata": {},
   "outputs": [
    {
     "name": "stdout",
     "output_type": "stream",
     "text": [
      "Alex no gusto es: Pesca\n"
     ]
    }
   ],
   "source": [
    "personaje = \"Alex\"\n",
    "gusto = \"Pesca\"\n",
    "if personajes_dic[f\"{personaje}\"] == f\"{gusto}\":\n",
    "     print(f\"A {personaje} su gusto es: {gusto}\")\n",
    "else:\n",
    "      print(f\"{personaje} no gusto es: {gusto}\")"
   ]
  },
  {
   "cell_type": "markdown",
   "metadata": {},
   "source": [
    "# Contando todos los gustos de los personajes"
   ]
  },
  {
   "cell_type": "code",
   "execution_count": 166,
   "metadata": {},
   "outputs": [],
   "source": [
    "personajes_gustos = {\n",
    "    \"Abigail\": [\"Juegos de rol\", \"Minería\"],\n",
    "    \"Alex\": [\"Deportes\", \"Juegos de rol\", \"Minería\"],\n",
    "    \"Caroline\": [\"Deportes\", \"Escritura\"],\n",
    "    \"Clint\": [\"Minería\", \"Deportes\", \"Escritura\", \"Pesca\"],\n",
    "    \"Demetrius\": [\"Minería\", \"Escritura\"],\n",
    "    \"Dwarf\": [\"Minería\", \"Deportes\", \"Escritura\"],\n",
    "    \"Elliott\": [\"Escritura\", \"Pesca\"],\n",
    "    \"Emily\": [\"Deportes\", \"Escritura\", \"Pesca\"],\n",
    "    \"Evelyn\": [\"Minería\", \"Pesca\"],\n",
    "    \"George\": [\"Pesca\", \"Juegos de rol\"],\n",
    "}\n",
    "\n"
   ]
  },
  {
   "cell_type": "code",
   "execution_count": 167,
   "metadata": {},
   "outputs": [],
   "source": [
    "def contar_gustos_personajes(personajes_gustos):\n",
    "    conteo_gustos = {}\n",
    "\n",
    "    for personaje, gustos in personajes_gustos.items():\n",
    "        for gusto in gustos:\n",
    "            if gusto in conteo_gustos:\n",
    "                conteo_gustos[gusto].append(personaje)\n",
    "            else:\n",
    "                conteo_gustos[gusto] = [personaje]\n",
    "\n",
    "    return conteo_gustos\n",
    "\n"
   ]
  },
  {
   "cell_type": "code",
   "execution_count": 168,
   "metadata": {},
   "outputs": [],
   "source": [
    "conteo_gustos_personajes = contar_gustos_personajes(personajes_gustos)"
   ]
  },
  {
   "cell_type": "code",
   "execution_count": 169,
   "metadata": {},
   "outputs": [
    {
     "name": "stdout",
     "output_type": "stream",
     "text": [
      "Juegos de rol: 3 personajes - Abigail, Alex, George\n",
      "Minería: 6 personajes - Abigail, Alex, Clint, Demetrius, Dwarf, Evelyn\n",
      "Deportes: 5 personajes - Alex, Caroline, Clint, Dwarf, Emily\n",
      "Escritura: 6 personajes - Caroline, Clint, Demetrius, Dwarf, Elliott, Emily\n",
      "Pesca: 5 personajes - Clint, Elliott, Emily, Evelyn, George\n"
     ]
    }
   ],
   "source": [
    "# Mostrar el conteo de gustos y los personajes correspondientes\n",
    "for gusto, personajes in conteo_gustos_personajes.items():\n",
    "    cantidad_personajes = len(personajes)\n",
    "    lista_personajes = \", \".join(personajes)\n",
    "    print(f\"{gusto}: {cantidad_personajes} personajes - {lista_personajes}\")"
   ]
  },
  {
   "cell_type": "code",
   "execution_count": 172,
   "metadata": {},
   "outputs": [
    {
     "name": "stdout",
     "output_type": "stream",
     "text": [
      "Gusto              | Cantidad Personajes | Personajes\n",
      "-----------------------------------------------\n",
      "Juegos de rol     | 3 personajes    | Abigail, Alex, George\n",
      "Minería           | 6 personajes    | Abigail, Alex, Clint, Demetrius, Dwarf, Evelyn\n",
      "Deportes          | 5 personajes    | Alex, Caroline, Clint, Dwarf, Emily\n",
      "Escritura         | 6 personajes    | Caroline, Clint, Demetrius, Dwarf, Elliott, Emily\n",
      "Pesca             | 5 personajes    | Clint, Elliott, Emily, Evelyn, George\n"
     ]
    }
   ],
   "source": [
    "# Mostrar el conteo de gustos como una tabla\n",
    "print(\"Gusto              | Cantidad Personajes | Personajes\")\n",
    "print(\"-----------------------------------------------\")\n",
    "for gusto, personajes in conteo_gustos_personajes.items():\n",
    "    cantidad_personajes = len(personajes)\n",
    "    lista_personajes = \", \".join(personajes)\n",
    "    print(f\"{gusto.ljust(18)}| {cantidad_personajes} personajes    | {lista_personajes}\")"
   ]
  },
  {
   "cell_type": "code",
   "execution_count": null,
   "metadata": {},
   "outputs": [],
   "source": [
    "%pip install tabulate\n",
    "from tabulate import tabulate"
   ]
  },
  {
   "cell_type": "code",
   "execution_count": 177,
   "metadata": {},
   "outputs": [
    {
     "name": "stdout",
     "output_type": "stream",
     "text": [
      "+---------------+-----------------------+---------------------------------------------------+\n",
      "| Gusto         |   Cantidad Personajes | Personajes                                        |\n",
      "+===============+=======================+===================================================+\n",
      "| Juegos de rol |                     3 | Abigail, Alex, George                             |\n",
      "+---------------+-----------------------+---------------------------------------------------+\n",
      "| Minería       |                     6 | Abigail, Alex, Clint, Demetrius, Dwarf, Evelyn    |\n",
      "+---------------+-----------------------+---------------------------------------------------+\n",
      "| Deportes      |                     5 | Alex, Caroline, Clint, Dwarf, Emily               |\n",
      "+---------------+-----------------------+---------------------------------------------------+\n",
      "| Escritura     |                     6 | Caroline, Clint, Demetrius, Dwarf, Elliott, Emily |\n",
      "+---------------+-----------------------+---------------------------------------------------+\n",
      "| Pesca         |                     5 | Clint, Elliott, Emily, Evelyn, George             |\n",
      "+---------------+-----------------------+---------------------------------------------------+\n"
     ]
    }
   ],
   "source": [
    "# Crear una lista para cada fila\n",
    "tabla_datos = []\n",
    "for gusto, personajes in conteo_gustos_personajes.items():\n",
    "    cantidad_personajes = len(personajes)\n",
    "    lista_personajes = \", \".join(personajes)\n",
    "    tabla_datos.append((gusto, cantidad_personajes, lista_personajes))\n",
    "\n",
    "# Mostrar la tabla con tabulate\n",
    "print(tabulate(tabla_datos, headers=[\"Gusto\", \"Cantidad Personajes\", \"Personajes\"], tablefmt=\"grid\"))"
   ]
  },
  {
   "cell_type": "markdown",
   "metadata": {},
   "source": [
    "# Guardando el conteo en un archivo"
   ]
  },
  {
   "cell_type": "code",
   "execution_count": null,
   "metadata": {},
   "outputs": [],
   "source": [
    "%pip install pandas\n",
    "%pip install openpyxl\n",
    "\n",
    "import pandas as pd"
   ]
  },
  {
   "cell_type": "code",
   "execution_count": 183,
   "metadata": {},
   "outputs": [],
   "source": [
    "# Ingresar los datos en una lista\n",
    "tabla_datos = []\n",
    "for gusto, personajes in conteo_gustos_personajes.items():\n",
    "    cantidad_personajes = len(personajes)\n",
    "    lista_personajes = \", \".join(personajes)\n",
    "    tabla_datos.append((gusto, cantidad_personajes, lista_personajes))"
   ]
  },
  {
   "cell_type": "code",
   "execution_count": 184,
   "metadata": {},
   "outputs": [],
   "source": [
    "# Convertir la en un DataFrame\n",
    "df = pd.DataFrame(tabla_datos, columns=[\"Gusto\", \"Cantidad Personajes\", \"Personajes\"])"
   ]
  },
  {
   "cell_type": "code",
   "execution_count": 186,
   "metadata": {},
   "outputs": [
    {
     "name": "stdout",
     "output_type": "stream",
     "text": [
      "Los datos se han guardado en el archivo 'conteo_gustos_personajes.xlsx'.\n"
     ]
    }
   ],
   "source": [
    "\n",
    "# Guardar el DataFrame en un archivo Excel\n",
    "nombre_archivo_excel = \"conteo_gustos_personajes.xlsx\"\n",
    "df.to_excel(nombre_archivo_excel, index=False)\n",
    "\n",
    "print(f\"Los datos se han guardado en el archivo '{nombre_archivo_excel}'.\")"
   ]
  }
 ],
 "metadata": {
  "kernelspec": {
   "display_name": "Python 3",
   "language": "python",
   "name": "python3"
  },
  "language_info": {
   "codemirror_mode": {
    "name": "ipython",
    "version": 3
   },
   "file_extension": ".py",
   "mimetype": "text/x-python",
   "name": "python",
   "nbconvert_exporter": "python",
   "pygments_lexer": "ipython3",
   "version": "3.8.0"
  },
  "orig_nbformat": 4
 },
 "nbformat": 4,
 "nbformat_minor": 2
}
