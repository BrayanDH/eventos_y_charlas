{
  "cells": [
    {
      "cell_type": "markdown",
      "metadata": {
        "id": "view-in-github",
        "colab_type": "text"
      },
      "source": [
        "<a href=\"https://colab.research.google.com/github/BrayanDH/eventos_y_charlas/blob/main/presentacion_digital_week.ipynb\" target=\"_parent\"><img src=\"https://colab.research.google.com/assets/colab-badge.svg\" alt=\"Open In Colab\"/></a>"
      ]
    },
    {
      "cell_type": "markdown",
      "metadata": {
        "id": "PMJfJ6BvLlva"
      },
      "source": [
        "# Bienvenidos 👋👋👋"
      ]
    },
    {
      "cell_type": "markdown",
      "metadata": {
        "id": "WjpcjsHHLlvf"
      },
      "source": [
        "# Asi se pone un titulo en mark"
      ]
    },
    {
      "cell_type": "markdown",
      "metadata": {
        "id": "9fqraG4_Llvg"
      },
      "source": [
        "## Asi un subtitulo"
      ]
    },
    {
      "cell_type": "markdown",
      "metadata": {
        "id": "2dKRcvDXLlvg"
      },
      "source": [
        "### Y asi un subsubtitulo"
      ]
    },
    {
      "cell_type": "markdown",
      "metadata": {
        "id": "hSXiy6kiLlvh"
      },
      "source": [
        "y asi un texto normal y con *italica* y **negrita**"
      ]
    },
    {
      "cell_type": "markdown",
      "metadata": {
        "id": "6rkr6BV7Llvh"
      },
      "source": [
        "[No es una foto de una piña](https://i.imgur.com/18EtYFJ.png)"
      ]
    },
    {
      "cell_type": "markdown",
      "metadata": {
        "id": "Sbslc8IMLlvi"
      },
      "source": [
        "###  ----------------------------------------------------------------------------------------------------- ###"
      ]
    },
    {
      "cell_type": "markdown",
      "metadata": {
        "id": "Ctqa_1FiLlvi"
      },
      "source": [
        "###  ----------------------------------------------------------------------------------------------------- ###"
      ]
    },
    {
      "cell_type": "markdown",
      "metadata": {
        "id": "9J7k9fAFLlvj"
      },
      "source": [
        "###  ----------------------------------------------------------------------------------------------------- ###"
      ]
    },
    {
      "cell_type": "markdown",
      "metadata": {
        "id": "XB0XVcGRLlvj"
      },
      "source": [
        "###  ----------------------------------------------------------------------------------------------------- ###"
      ]
    },
    {
      "cell_type": "markdown",
      "metadata": {
        "id": "gjEivtwKLlvk"
      },
      "source": [
        "![](https://i.imgur.com/OO5w0yI.png)"
      ]
    },
    {
      "cell_type": "markdown",
      "metadata": {
        "id": "mZRU5YHqLlvk"
      },
      "source": [
        "###  ----------------------------------------------------------------------------------------------------- ###"
      ]
    },
    {
      "cell_type": "markdown",
      "metadata": {
        "id": "_DTnHH2RLlvk"
      },
      "source": [
        "###  ----------------------------------------------------------------------------------------------------- ###"
      ]
    },
    {
      "cell_type": "markdown",
      "metadata": {
        "id": "Ljem6WlsLlvk"
      },
      "source": [
        "# Usando python como una calculadora"
      ]
    },
    {
      "cell_type": "code",
      "execution_count": null,
      "metadata": {
        "id": "tP2zk3GYLlvl",
        "outputId": "e085e852-9a5d-4c27-dbcb-c1a66daeca44"
      },
      "outputs": [
        {
          "data": {
            "text/plain": [
              "2"
            ]
          },
          "execution_count": 1,
          "metadata": {},
          "output_type": "execute_result"
        }
      ],
      "source": [
        "1 + 1"
      ]
    },
    {
      "cell_type": "code",
      "execution_count": null,
      "metadata": {
        "id": "ChrVKQHKLlvo",
        "outputId": "9e5e794b-e01f-44dd-c279-13a2641c8aec"
      },
      "outputs": [
        {
          "data": {
            "text/plain": [
              "1"
            ]
          },
          "execution_count": 2,
          "metadata": {},
          "output_type": "execute_result"
        }
      ],
      "source": [
        "3 - 2"
      ]
    },
    {
      "cell_type": "code",
      "execution_count": null,
      "metadata": {
        "id": "8z77y49kLlvo",
        "outputId": "fec7eab2-c1dd-47f3-c193-62e1626056e3"
      },
      "outputs": [
        {
          "data": {
            "text/plain": [
              "6"
            ]
          },
          "execution_count": 3,
          "metadata": {},
          "output_type": "execute_result"
        }
      ],
      "source": [
        "4 + 2"
      ]
    },
    {
      "cell_type": "code",
      "execution_count": null,
      "metadata": {
        "id": "-1zJdTsKLlvp",
        "outputId": "ba4fbe47-424c-4fe5-aa4f-3122afbb06ce"
      },
      "outputs": [
        {
          "data": {
            "text/plain": [
              "2.0"
            ]
          },
          "execution_count": 4,
          "metadata": {},
          "output_type": "execute_result"
        }
      ],
      "source": [
        "4 / 2"
      ]
    },
    {
      "cell_type": "code",
      "execution_count": null,
      "metadata": {
        "id": "eApvEFlDLlvp"
      },
      "outputs": [],
      "source": [
        "4 / 0"
      ]
    },
    {
      "cell_type": "markdown",
      "metadata": {
        "id": "HOJG8HGALlvq"
      },
      "source": [
        "# Calculadora logica 🤔🤔🤔"
      ]
    },
    {
      "cell_type": "code",
      "execution_count": null,
      "metadata": {
        "id": "C7KBGhrzLlvq",
        "outputId": "79af5a95-a508-4d74-fc6d-24ee36bc238a"
      },
      "outputs": [
        {
          "name": "stderr",
          "output_type": "stream",
          "text": [
            "<>:1: SyntaxWarning: \"is\" with a literal. Did you mean \"==\"?\n",
            "<>:1: SyntaxWarning: \"is\" with a literal. Did you mean \"==\"?\n",
            "C:\\Users\\Brayan\\AppData\\Local\\Temp\\ipykernel_18568\\3957363989.py:1: SyntaxWarning: \"is\" with a literal. Did you mean \"==\"?\n",
            "  4 is 2\n"
          ]
        },
        {
          "data": {
            "text/plain": [
              "False"
            ]
          },
          "execution_count": 7,
          "metadata": {},
          "output_type": "execute_result"
        }
      ],
      "source": [
        "4 is 2"
      ]
    },
    {
      "cell_type": "code",
      "execution_count": null,
      "metadata": {
        "id": "oTWTqlXyLlvr",
        "outputId": "020c0557-b059-4227-a406-24cf5b76ef41"
      },
      "outputs": [
        {
          "data": {
            "text/plain": [
              "False"
            ]
          },
          "execution_count": 9,
          "metadata": {},
          "output_type": "execute_result"
        }
      ],
      "source": [
        "4 == 2"
      ]
    },
    {
      "cell_type": "code",
      "execution_count": null,
      "metadata": {
        "id": "iruZ-3BGLlvr",
        "outputId": "acb510fd-27dc-456f-b8ee-6faf05c0f3c9"
      },
      "outputs": [
        {
          "data": {
            "text/plain": [
              "True"
            ]
          },
          "execution_count": 11,
          "metadata": {},
          "output_type": "execute_result"
        }
      ],
      "source": [
        "4 == 4"
      ]
    },
    {
      "cell_type": "code",
      "execution_count": null,
      "metadata": {
        "id": "YOTzR14iLlvs",
        "outputId": "afb24b75-5200-4f68-f71e-d27d30a5e55a"
      },
      "outputs": [
        {
          "data": {
            "text/plain": [
              "True"
            ]
          },
          "execution_count": 12,
          "metadata": {},
          "output_type": "execute_result"
        }
      ],
      "source": [
        "4 != 2"
      ]
    },
    {
      "cell_type": "markdown",
      "metadata": {
        "id": "_-Ss5AgyLlvs"
      },
      "source": [
        "###  ----------------------------------------------------------------------------------------------------- ###"
      ]
    },
    {
      "cell_type": "markdown",
      "metadata": {
        "id": "-JwG7bHdLlvt"
      },
      "source": [
        "###  ----------------------------------------------------------------------------------------------------- ###"
      ]
    },
    {
      "cell_type": "markdown",
      "metadata": {
        "id": "tGBIvH4NLlvt"
      },
      "source": [
        "![](https://i.imgur.com/uGejCgD.png)"
      ]
    },
    {
      "cell_type": "markdown",
      "metadata": {
        "id": "lJ3aCd8FLlvt"
      },
      "source": [
        " ![](https://i.imgur.com/MzFWOK3.png)"
      ]
    },
    {
      "cell_type": "markdown",
      "metadata": {
        "id": "IeEFaUFXLlvu"
      },
      "source": [
        "###  ----------------------------------------------------------------------------------------------------- ###"
      ]
    },
    {
      "cell_type": "markdown",
      "metadata": {
        "id": "zEOL40YHLlvu"
      },
      "source": [
        "###  ----------------------------------------------------------------------------------------------------- ###"
      ]
    },
    {
      "cell_type": "markdown",
      "metadata": {
        "id": "xCtl_C_BLlvu"
      },
      "source": [
        " ![](https://i.imgur.com/3owd3Dd.jpg)"
      ]
    },
    {
      "cell_type": "markdown",
      "metadata": {
        "id": "P39ZXlXrLlvu"
      },
      "source": [
        "###  ----------------------------------------------------------------------------------------------------- ###"
      ]
    },
    {
      "cell_type": "markdown",
      "metadata": {
        "id": "yJyhYtreLlvv"
      },
      "source": [
        "###  ----------------------------------------------------------------------------------------------------- ###"
      ]
    },
    {
      "cell_type": "markdown",
      "metadata": {
        "id": "_qlOYKjaLlvv"
      },
      "source": [
        "\n",
        "<div style=\"display: flex; justify-content: center;\">\n",
        "    <img src=\"https://i.imgur.com/Mnafgv5.jpg\" alt=\"Texto alternativo\" width=\"600\">\n",
        "</div>"
      ]
    },
    {
      "cell_type": "markdown",
      "metadata": {
        "id": "4veA4HxlLlvw"
      },
      "source": [
        "###  ----------------------------------------------------------------------------------------------------- ###"
      ]
    },
    {
      "cell_type": "markdown",
      "metadata": {
        "id": "SCa2zLsJLlvw"
      },
      "source": [
        "###  ----------------------------------------------------------------------------------------------------- ###"
      ]
    },
    {
      "cell_type": "markdown",
      "metadata": {
        "id": "Y0DkeID-Llvw"
      },
      "source": [
        "# Cajas para guardar valores"
      ]
    },
    {
      "cell_type": "markdown",
      "metadata": {
        "id": "yyuGm5CMLlvx"
      },
      "source": [
        " ![](https://i.imgur.com/VRy9xEy.png)"
      ]
    },
    {
      "cell_type": "code",
      "execution_count": null,
      "metadata": {
        "id": "CNBkTYmdLlvx",
        "outputId": "f32dea9b-e39b-4730-8db1-7c42eeea1a0d"
      },
      "outputs": [
        {
          "data": {
            "text/plain": [
              "'Hola taco'"
            ]
          },
          "execution_count": 15,
          "metadata": {},
          "output_type": "execute_result"
        }
      ],
      "source": [
        "caja_de_texto = \"Hola taco\"\n",
        "caja_de_texto"
      ]
    },
    {
      "cell_type": "code",
      "execution_count": null,
      "metadata": {
        "id": "lT3TcotKLlv7",
        "outputId": "008e8238-6e6e-47a1-b352-b30dfbcad97c"
      },
      "outputs": [
        {
          "data": {
            "text/plain": [
              "4"
            ]
          },
          "execution_count": 16,
          "metadata": {},
          "output_type": "execute_result"
        }
      ],
      "source": [
        "caja_de_numeros = 4\n",
        "caja_de_numeros"
      ]
    },
    {
      "cell_type": "code",
      "execution_count": null,
      "metadata": {
        "id": "BAIPOzvlLlwE",
        "outputId": "ccf32841-e503-449b-fc8c-9f929d86dde2"
      },
      "outputs": [
        {
          "data": {
            "text/plain": [
              "4.5"
            ]
          },
          "execution_count": 19,
          "metadata": {},
          "output_type": "execute_result"
        }
      ],
      "source": [
        "caja_de_decimales = 4.5\n",
        "caja_de_decimales"
      ]
    },
    {
      "cell_type": "code",
      "execution_count": null,
      "metadata": {
        "id": "AAQEGMknLlwF",
        "outputId": "6c0bea82-e6cf-4937-e8aa-5820209ff57c"
      },
      "outputs": [
        {
          "data": {
            "text/plain": [
              "True"
            ]
          },
          "execution_count": 20,
          "metadata": {},
          "output_type": "execute_result"
        }
      ],
      "source": [
        "caja_de_booleanos = True\n",
        "caja_de_booleanos"
      ]
    },
    {
      "cell_type": "markdown",
      "metadata": {
        "id": "wxtBgc3xLlwF"
      },
      "source": [
        "###  ----------------------------------------------------------------------------------------------------- ###"
      ]
    },
    {
      "cell_type": "markdown",
      "metadata": {
        "id": "H4g_imZHLlwF"
      },
      "source": [
        "###  ----------------------------------------------------------------------------------------------------- ###"
      ]
    },
    {
      "cell_type": "markdown",
      "metadata": {
        "id": "22YooDciLlwG"
      },
      "source": [
        " <img src=\"https://i.imgur.com/02t5hjd.png\" alt=\"Texto alternativo\" width=\"400\" height=\"300\">  <img src=\"https://i.imgur.com/n2CEqUc.png\" alt=\"Texto alternativo\" width=\"400\" height=\"300\">"
      ]
    },
    {
      "cell_type": "markdown",
      "metadata": {
        "id": "ZGe6xXk2LlwG"
      },
      "source": [
        "###  ----------------------------------------------------------------------------------------------------- ###"
      ]
    },
    {
      "cell_type": "code",
      "execution_count": null,
      "metadata": {
        "id": "lP4nu0hiLlwH"
      },
      "outputs": [],
      "source": [
        "numero = 4\n",
        "numero_de_texto = \"4\"\n",
        "\n",
        "numero + numero_de_texto"
      ]
    },
    {
      "cell_type": "markdown",
      "metadata": {
        "id": "MPSCsIsELlwH"
      },
      "source": [
        "# Haciendo que los animales se presenten"
      ]
    },
    {
      "cell_type": "markdown",
      "metadata": {
        "id": "vruoHZCsLlwI"
      },
      "source": [
        "![image.png](https://i.imgur.com/QZWpoiK.png)"
      ]
    },
    {
      "cell_type": "code",
      "execution_count": null,
      "metadata": {
        "id": "-ECW4yX_LlwI",
        "outputId": "e05615a8-8db5-472c-d8ab-3ecd0eb6f84f"
      },
      "outputs": [
        {
          "name": "stdout",
          "output_type": "stream",
          "text": [
            "Soy un cerdo y hago Oink!\n"
          ]
        }
      ],
      "source": [
        "print(\"Soy un cerdo y hago Oink!\")"
      ]
    },
    {
      "cell_type": "markdown",
      "metadata": {
        "id": "c0zn8tcsLlwI"
      },
      "source": [
        " ![](https://i.imgur.com/4fIvcek.png)"
      ]
    },
    {
      "cell_type": "markdown",
      "metadata": {
        "id": "ESBWplfYLlwJ"
      },
      "source": [
        "###  ----------------------------------------------------------------------------------------------------- ###"
      ]
    },
    {
      "cell_type": "markdown",
      "metadata": {
        "id": "eRXhNXxILlwJ"
      },
      "source": [
        "###  ----------------------------------------------------------------------------------------------------- ###"
      ]
    },
    {
      "cell_type": "markdown",
      "metadata": {
        "id": "NJf2eMi5LlwK"
      },
      "source": [
        "# Presentando a los animales de forma dinamica"
      ]
    },
    {
      "cell_type": "code",
      "execution_count": null,
      "metadata": {
        "id": "dlI_wef-LlwK",
        "outputId": "1ca31d64-8386-49be-efdc-bf2fcf2266f0"
      },
      "outputs": [
        {
          "name": "stdout",
          "output_type": "stream",
          "text": [
            "Soy un Vaca y hago Muhhh!!\n"
          ]
        }
      ],
      "source": [
        "animal = \"Vaca\"\n",
        "ruido = \"Muhhh!\"\n",
        "\n",
        "print(f\"Soy un {animal} y hago {ruido}!\")"
      ]
    },
    {
      "cell_type": "markdown",
      "metadata": {
        "id": "Oof21yUZLlwL"
      },
      "source": [
        "![](https://i.imgur.com/RxVrb5a.png)"
      ]
    },
    {
      "cell_type": "markdown",
      "metadata": {
        "id": "P8Z0PK53LlwL"
      },
      "source": [
        "###  ----------------------------------------------------------------------------------------------------- ###"
      ]
    },
    {
      "cell_type": "markdown",
      "metadata": {
        "id": "J2duzACXLlwL"
      },
      "source": [
        "###  ----------------------------------------------------------------------------------------------------- ###"
      ]
    },
    {
      "cell_type": "markdown",
      "metadata": {
        "id": "g4_z3A6uLlwM"
      },
      "source": [
        "# Una funcion para presentar a los animales\n",
        "\n"
      ]
    },
    {
      "cell_type": "markdown",
      "metadata": {
        "id": "FLky_k3JLlwM"
      },
      "source": [
        " <img src=\"https://i.imgur.com/RxVrb5a.png\" alt=\"Texto alternativo\" width=\"300\" height=\"200\">  <img src=\"https://i.imgur.com/QZWpoiK.png\" alt=\"Texto alternativo\" width=\"300\" height=\"200\"> <img src=\"https://i.imgur.com/4fIvcek.png\" alt=\"Texto alternativo\" width=\"300\" height=\"200\">"
      ]
    },
    {
      "cell_type": "code",
      "execution_count": null,
      "metadata": {
        "id": "wIqw8ikILlwM"
      },
      "outputs": [],
      "source": [
        "def hacer_ruido(animal, ruido):\n",
        "    print(f\"Soy un/una {animal} y hago {ruido}!\")"
      ]
    },
    {
      "cell_type": "code",
      "execution_count": null,
      "metadata": {
        "id": "GbPWpBEqLlwN",
        "outputId": "4556e546-b1de-438a-905b-01e477acfdb0"
      },
      "outputs": [
        {
          "name": "stdout",
          "output_type": "stream",
          "text": [
            "Soy un/una Cerdo y hago Oink!!\n",
            "Soy un/una Vaca y hago Muhhh!!\n",
            "Soy un/una Cabra y hago beehh!!\n"
          ]
        }
      ],
      "source": [
        "hacer_ruido(\"Cerdo\", \"Oink!\")\n",
        "\n",
        "hacer_ruido(\"Vaca\", \"Muhhh!\")\n",
        "\n",
        "hacer_ruido(\"Cabra\", \"beehh!\")"
      ]
    },
    {
      "cell_type": "markdown",
      "metadata": {
        "id": "wqTk8OQCLlwN"
      },
      "source": [
        "\n",
        " <div style=\"display: flex; justify-content: center;\">\n",
        "    <img src=\"https://i.imgur.com/k8cV1vr.jpg\" alt=\"Texto alternativo\" width=\"600\">\n",
        "</div>"
      ]
    },
    {
      "cell_type": "markdown",
      "metadata": {
        "id": "1udt6xdLLlwO"
      },
      "source": [
        "###  ----------------------------------------------------------------------------------------------------- ###"
      ]
    },
    {
      "cell_type": "markdown",
      "metadata": {
        "id": "54sDGJ-xLlwO"
      },
      "source": [
        "###  ----------------------------------------------------------------------------------------------------- ###"
      ]
    },
    {
      "cell_type": "markdown",
      "metadata": {
        "id": "NA0uxenHLlwO"
      },
      "source": [
        "# Creando una clase para presentar a toda nuestra granja"
      ]
    },
    {
      "cell_type": "code",
      "execution_count": null,
      "metadata": {
        "id": "xyPq0cj0LlwP"
      },
      "outputs": [],
      "source": [
        "class Animal():\n",
        "    tipo = \"\"\n",
        "    nombre = \"\"\n",
        "    ruido = \"\"\n",
        "\n",
        "    def hacer_ruido(self):\n",
        "        print(f\"Hola soy un/una {self.tipo}, me llamo {self.nombre} y hago {self.ruido}!\")\n"
      ]
    },
    {
      "cell_type": "code",
      "execution_count": null,
      "metadata": {
        "id": "ffPKRmMzLlwP",
        "outputId": "a36c23c4-7c7c-4f06-d400-b7e4e6a2efa2"
      },
      "outputs": [
        {
          "name": "stdout",
          "output_type": "stream",
          "text": [
            "Hola soy un/una Cerdo, me llamo Pedro y hago Oink!!\n",
            "Hola soy un/una Cerdo, me llamo Pepa y hago Oink!!\n"
          ]
        }
      ],
      "source": [
        "cerdo = Animal()\n",
        "cerdo.tipo = \"Cerdo\"\n",
        "cerdo.nombre = \"Pedro\"\n",
        "cerdo.ruido = \"Oink!\"\n",
        "\n",
        "cerdo.hacer_ruido()\n",
        "\n",
        "cerdo2 = Animal()\n",
        "cerdo2.tipo = \"Cerdo\"\n",
        "cerdo2.nombre = \"Pepa\"\n",
        "cerdo2.ruido = \"Oink!\"\n",
        "\n",
        "cerdo2.hacer_ruido()\n"
      ]
    },
    {
      "cell_type": "code",
      "execution_count": null,
      "metadata": {
        "id": "UnZty1DGLlwQ",
        "outputId": "f382cf9e-8e06-452e-d405-396b14bea4c4"
      },
      "outputs": [
        {
          "name": "stdout",
          "output_type": "stream",
          "text": [
            "Hola soy un/una Cabra, me llamo Cami y hago beehh!!\n",
            "Hola soy un/una Cabra, me llamo Luci y hago beehh!!\n"
          ]
        }
      ],
      "source": [
        "cabra = Animal()\n",
        "cabra.tipo = \"Cabra\"\n",
        "cabra.nombre = \"Cami\"\n",
        "cabra.ruido = \"beehh!\"\n",
        "\n",
        "cabra.hacer_ruido()\n",
        "\n",
        "cabra2 = Animal()\n",
        "cabra2.tipo = \"Cabra\"\n",
        "cabra2.nombre = \"Luci\"\n",
        "cabra2.ruido = \"beehh!\"\n",
        "\n",
        "cabra2.hacer_ruido()"
      ]
    },
    {
      "cell_type": "code",
      "execution_count": null,
      "metadata": {
        "id": "181-Hw96LlwQ",
        "outputId": "31a40808-3e52-400b-afd4-8ff281bf4f8f"
      },
      "outputs": [
        {
          "name": "stdout",
          "output_type": "stream",
          "text": [
            "Hola soy un/una Vaca, me llamo Lola y hago Muhhh!!\n",
            "Hola soy un/una Vaca, me llamo Lolo y hago Muhhh!!\n"
          ]
        }
      ],
      "source": [
        "vaca = Animal()\n",
        "vaca.tipo = \"Vaca\"\n",
        "vaca.nombre = \"Lola\"\n",
        "vaca.ruido = \"Muhhh!\"\n",
        "\n",
        "vaca.hacer_ruido()\n",
        "\n",
        "vaca2 = Animal()\n",
        "vaca2.tipo = \"Vaca\"\n",
        "vaca2.nombre = \"Lolo\"\n",
        "vaca2.ruido = \"Muhhh!\"\n",
        "\n",
        "vaca2.hacer_ruido()\n"
      ]
    },
    {
      "cell_type": "code",
      "execution_count": null,
      "metadata": {
        "id": "fbeZrSsqLlwR",
        "outputId": "fb220096-c4c4-44c3-f268-1404f7fcd37c"
      },
      "outputs": [
        {
          "name": "stdout",
          "output_type": "stream",
          "text": [
            "Hola soy un/una Gallina, me llamo Pepita y hago Cocorocó!!\n"
          ]
        }
      ],
      "source": [
        "gallina = Animal()\n",
        "gallina.tipo = \"Gallina\"\n",
        "gallina.nombre = \"Pepita\"\n",
        "gallina.ruido = \"Cocorocó!\"\n",
        "\n",
        "gallina.hacer_ruido()"
      ]
    },
    {
      "cell_type": "markdown",
      "metadata": {
        "id": "agiHcLRQLlwR"
      },
      "source": [
        " ![](https://i.imgur.com/FZNakes.png)"
      ]
    },
    {
      "cell_type": "markdown",
      "metadata": {
        "id": "_m6T5A66LlwR"
      },
      "source": [
        "###  ----------------------------------------------------------------------------------------------------- ###"
      ]
    },
    {
      "cell_type": "markdown",
      "metadata": {
        "id": "IL_1O3WzLlwS"
      },
      "source": [
        "###  ----------------------------------------------------------------------------------------------------- ###"
      ]
    },
    {
      "cell_type": "markdown",
      "metadata": {
        "id": "wSBGJ8cfLlwS"
      },
      "source": [
        "###  ----------------------------------------------------------------------------------------------------- ###"
      ]
    },
    {
      "cell_type": "markdown",
      "metadata": {
        "id": "Y4xvtkN8LlwS"
      },
      "source": [
        "###  ----------------------------------------------------------------------------------------------------- ###"
      ]
    },
    {
      "cell_type": "markdown",
      "metadata": {
        "id": "hmIgTfYELlwT"
      },
      "source": [
        "# Personajes en stardew valley"
      ]
    },
    {
      "cell_type": "markdown",
      "metadata": {
        "id": "gAYft9_DLlwT"
      },
      "source": [
        "\n",
        " <div style=\"display: flex; justify-content: center;\">\n",
        "    <img src=\"https://i.imgur.com/B4r6gcE.png\" alt=\"Texto alternativo\" width=\"700\">\n",
        "</div>"
      ]
    },
    {
      "cell_type": "code",
      "execution_count": null,
      "metadata": {
        "id": "xhUCOdg4LlwU",
        "outputId": "1de4b610-2167-41ad-c54b-b68ba464f76d"
      },
      "outputs": [
        {
          "data": {
            "text/plain": [
              "'Abigail'"
            ]
          },
          "execution_count": 79,
          "metadata": {},
          "output_type": "execute_result"
        }
      ],
      "source": [
        "personaje_1 = \"Abigail\"\n",
        "personaje_2 = \"Alex\"\n",
        "personaje_3 = \"Caroline\"\n",
        "personaje_4 = \"Clint\"\n",
        "personaje_5 = \"Demetrius\"\n",
        "\n",
        "personaje_1"
      ]
    },
    {
      "cell_type": "code",
      "execution_count": null,
      "metadata": {
        "id": "4tZ4CAkpLlwV",
        "outputId": "092fd427-830e-46be-fb33-e502ffd84eb0"
      },
      "outputs": [
        {
          "data": {
            "text/plain": [
              "'Abigail'"
            ]
          },
          "execution_count": 80,
          "metadata": {},
          "output_type": "execute_result"
        }
      ],
      "source": [
        "personaje_1"
      ]
    },
    {
      "cell_type": "code",
      "execution_count": null,
      "metadata": {
        "id": "jLu7TI0GLlwV",
        "outputId": "323b8487-0801-4b70-fd94-c3a1f5563a3c"
      },
      "outputs": [
        {
          "data": {
            "text/plain": [
              "'Alex'"
            ]
          },
          "execution_count": 81,
          "metadata": {},
          "output_type": "execute_result"
        }
      ],
      "source": [
        "personaje_2"
      ]
    },
    {
      "cell_type": "code",
      "execution_count": null,
      "metadata": {
        "id": "hKnQHNU1LlwW",
        "outputId": "e49102bd-2da3-432f-d6f5-cc6b0b02da9f"
      },
      "outputs": [
        {
          "data": {
            "text/plain": [
              "'Caroline'"
            ]
          },
          "execution_count": 82,
          "metadata": {},
          "output_type": "execute_result"
        }
      ],
      "source": [
        "personaje_3"
      ]
    },
    {
      "cell_type": "markdown",
      "metadata": {
        "id": "WW21B-XcLlwW"
      },
      "source": [
        "# Lista con los personajes de stardew valley"
      ]
    },
    {
      "cell_type": "code",
      "execution_count": null,
      "metadata": {
        "id": "3ym7ZNQNLlwW",
        "outputId": "a2d63d9a-897e-4a8d-ca83-2e604f358632"
      },
      "outputs": [
        {
          "data": {
            "text/plain": [
              "['Abigail',\n",
              " 'Alex',\n",
              " 'Caroline',\n",
              " 'Clint',\n",
              " 'Demetrius',\n",
              " 'Dwarf',\n",
              " 'Elliott',\n",
              " 'Emily',\n",
              " 'Evelyn',\n",
              " 'George']"
            ]
          },
          "execution_count": 99,
          "metadata": {},
          "output_type": "execute_result"
        }
      ],
      "source": [
        "personajes_stardew_valley = [\n",
        "    \"Abigail\",\n",
        "    \"Alex\",\n",
        "    \"Caroline\",\n",
        "    \"Clint\",\n",
        "    \"Demetrius\",\n",
        "    \"Dwarf\",\n",
        "    \"Elliott\",\n",
        "    \"Emily\",\n",
        "    \"Evelyn\",\n",
        "    \"George\",\n",
        "]\n",
        "\n",
        "personajes_stardew_valley"
      ]
    },
    {
      "cell_type": "code",
      "execution_count": null,
      "metadata": {
        "id": "V0NUxrdmLlwX",
        "outputId": "7850b54c-adcd-4402-84d4-fc710e343f5b"
      },
      "outputs": [
        {
          "data": {
            "text/plain": [
              "'Abigail'"
            ]
          },
          "execution_count": 74,
          "metadata": {},
          "output_type": "execute_result"
        }
      ],
      "source": [
        "personajes_stardew_valley[0]"
      ]
    },
    {
      "cell_type": "code",
      "execution_count": null,
      "metadata": {
        "id": "y7d0VU0mLlwX",
        "outputId": "718fa3e0-2fbe-428d-821d-d3b668766824"
      },
      "outputs": [
        {
          "data": {
            "text/plain": [
              "'Alex'"
            ]
          },
          "execution_count": 75,
          "metadata": {},
          "output_type": "execute_result"
        }
      ],
      "source": [
        "personajes_stardew_valley[1]"
      ]
    },
    {
      "cell_type": "markdown",
      "metadata": {
        "id": "d1k-IMHlLlwY"
      },
      "source": [
        "# Mostrando todos mis personajes con un for"
      ]
    },
    {
      "cell_type": "code",
      "execution_count": null,
      "metadata": {
        "id": "zJokdAe5LlwY",
        "outputId": "162d40c9-6e26-480d-a9e4-728f3555fd17"
      },
      "outputs": [
        {
          "name": "stdout",
          "output_type": "stream",
          "text": [
            "Abigail\n",
            "Alex\n",
            "Caroline\n",
            "Clint\n",
            "Demetrius\n",
            "Dwarf\n",
            "Elliott\n",
            "Emily\n",
            "Evelyn\n",
            "George\n"
          ]
        }
      ],
      "source": [
        "for personaje in personajes_stardew_valley:\n",
        "    print(personaje)"
      ]
    },
    {
      "cell_type": "code",
      "execution_count": null,
      "metadata": {
        "id": "JZSEF0KtLlwY",
        "outputId": "53ad0d20-5d98-495e-89b9-e0c3ff9506b3"
      },
      "outputs": [
        {
          "name": "stdout",
          "output_type": "stream",
          "text": [
            "Hola soy  Abigail y me gusta Stardew Valley!\n",
            "Hola soy  Alex y me gusta Stardew Valley!\n",
            "Hola soy  Caroline y me gusta Stardew Valley!\n",
            "Hola soy  Clint y me gusta Stardew Valley!\n",
            "Hola soy  Demetrius y me gusta Stardew Valley!\n",
            "Hola soy  Dwarf y me gusta Stardew Valley!\n",
            "Hola soy  Elliott y me gusta Stardew Valley!\n",
            "Hola soy  Emily y me gusta Stardew Valley!\n",
            "Hola soy  Evelyn y me gusta Stardew Valley!\n",
            "Hola soy  George y me gusta Stardew Valley!\n"
          ]
        }
      ],
      "source": [
        "for personaje in personajes_stardew_valley:\n",
        "    print(f\"Hola soy  {personaje} y me gusta Stardew Valley!\")"
      ]
    },
    {
      "cell_type": "code",
      "execution_count": null,
      "metadata": {
        "id": "BCvkfXvCLlwZ",
        "outputId": "b560f863-bcba-4256-cd53-05d132c688aa"
      },
      "outputs": [
        {
          "name": "stdout",
          "output_type": "stream",
          "text": [
            "Hola soy  Abigail y soy el personaje número 1\n",
            "Hola soy  Alex y soy el personaje número 2\n",
            "Hola soy  Caroline y soy el personaje número 3\n",
            "Hola soy  Clint y soy el personaje número 4\n",
            "Hola soy  Demetrius y soy el personaje número 5\n",
            "Hola soy  Dwarf y soy el personaje número 6\n",
            "Hola soy  Elliott y soy el personaje número 7\n",
            "Hola soy  Emily y soy el personaje número 8\n",
            "Hola soy  Evelyn y soy el personaje número 9\n",
            "Hola soy  George y soy el personaje número 10\n"
          ]
        }
      ],
      "source": [
        "contador = 1\n",
        "for personaje in personajes_stardew_valley:\n",
        "    print(f\"Hola soy  {personaje} y soy el personaje número {contador}\")\n",
        "    contador = contador + 1"
      ]
    },
    {
      "cell_type": "code",
      "execution_count": null,
      "metadata": {
        "id": "HYrYHV2gLlwZ"
      },
      "outputs": [],
      "source": [
        "personajes_stardew_valley = [\n",
        "    [1, \"Abigail\"],\n",
        "    [2, \"Alex\"],\n",
        "    [3, \"Caroline\"],\n",
        "    [4, \"Clint\"],\n",
        "    [5, \"Demetrius\"],\n",
        "    [6, \"Dwarf\"],\n",
        "    [7, \"Elliott\"],\n",
        "    [8, \"Emily\"],\n",
        "    [9, \"Evelyn\"],\n",
        "    [10, \"George\"],\n",
        "    ]"
      ]
    },
    {
      "cell_type": "markdown",
      "metadata": {
        "id": "k2EabjCRLlwa"
      },
      "source": [
        " <div style=\"display: flex; justify-content: center;\">\n",
        "    <img src=\"https://i.imgur.com/2ImVy8s.png\" alt=\"Texto alternativo\" width=\"700\">\n",
        "</div>"
      ]
    },
    {
      "cell_type": "code",
      "execution_count": null,
      "metadata": {
        "id": "euX_B5aOLlwa",
        "outputId": "5b26ab01-cbf2-49aa-ab4a-ae74f5466c9d"
      },
      "outputs": [
        {
          "data": {
            "text/plain": [
              "'Abigail'"
            ]
          },
          "execution_count": 101,
          "metadata": {},
          "output_type": "execute_result"
        }
      ],
      "source": [
        "# primer persnaje\n",
        "personajes_stardew_valley[0]\n"
      ]
    },
    {
      "cell_type": "code",
      "execution_count": null,
      "metadata": {
        "id": "QNfoPIXQLlwb",
        "outputId": "09a85767-cdd2-4f1c-b0f1-74252b487147"
      },
      "outputs": [
        {
          "data": {
            "text/plain": [
              "'Caroline'"
            ]
          },
          "execution_count": 102,
          "metadata": {},
          "output_type": "execute_result"
        }
      ],
      "source": [
        "# ver el personaje y su id\n",
        "personajes_stardew_valley[2]\n"
      ]
    },
    {
      "cell_type": "code",
      "execution_count": null,
      "metadata": {
        "id": "wly4vPAkLlwb",
        "outputId": "908f47a1-6115-4130-be82-b4dbe0460c45"
      },
      "outputs": [
        {
          "data": {
            "text/plain": [
              "3"
            ]
          },
          "execution_count": 91,
          "metadata": {},
          "output_type": "execute_result"
        }
      ],
      "source": [
        "# ver el id del personaje\n",
        "personajes_stardew_valley[2][0]\n",
        "\n"
      ]
    },
    {
      "cell_type": "code",
      "execution_count": null,
      "metadata": {
        "id": "C8nEmYWYLlwc",
        "outputId": "af653636-eb94-460d-dd3d-bd334e3a2e29"
      },
      "outputs": [
        {
          "data": {
            "text/plain": [
              "'Caroline'"
            ]
          },
          "execution_count": 92,
          "metadata": {},
          "output_type": "execute_result"
        }
      ],
      "source": [
        "# ver el nombre del personaje\n",
        "personajes_stardew_valley[2][1]"
      ]
    },
    {
      "cell_type": "code",
      "execution_count": null,
      "metadata": {
        "id": "K6f0RxoMLlwc",
        "outputId": "406585c4-7459-4950-9cbd-50b8697252b7"
      },
      "outputs": [
        {
          "name": "stdout",
          "output_type": "stream",
          "text": [
            "Hola soy  Abigail y soy el personaje número 1\n",
            "Hola soy  Alex y soy el personaje número 2\n",
            "Hola soy  Caroline y soy el personaje número 3\n",
            "Hola soy  Clint y soy el personaje número 4\n",
            "Hola soy  Demetrius y soy el personaje número 5\n",
            "Hola soy  Dwarf y soy el personaje número 6\n",
            "Hola soy  Elliott y soy el personaje número 7\n",
            "Hola soy  Emily y soy el personaje número 8\n",
            "Hola soy  Evelyn y soy el personaje número 9\n",
            "Hola soy  George y soy el personaje número 10\n"
          ]
        }
      ],
      "source": [
        "for personaje in personajes_stardew_valley:\n",
        "    print(f\"Hola soy  {personaje[1]} y soy el personaje número {personaje[0]}\")"
      ]
    },
    {
      "cell_type": "markdown",
      "metadata": {
        "id": "GB8ze0n6Llwd"
      },
      "source": [
        "###  ----------------------------------------------------------------------------------------------------- ###"
      ]
    },
    {
      "cell_type": "markdown",
      "metadata": {
        "id": "QHdaYYG5Llwd"
      },
      "source": [
        "###  ----------------------------------------------------------------------------------------------------- ###"
      ]
    },
    {
      "cell_type": "markdown",
      "metadata": {
        "id": "hSFhXEd3Llwd"
      },
      "source": [
        "###  ----------------------------------------------------------------------------------------------------- ###"
      ]
    },
    {
      "cell_type": "markdown",
      "metadata": {
        "id": "SHp6lbeDLlwe"
      },
      "source": [
        "###  ----------------------------------------------------------------------------------------------------- ###"
      ]
    },
    {
      "cell_type": "markdown",
      "metadata": {
        "id": "rwqyaUd9Llwe"
      },
      "source": [
        "# Personajes y sus gustos"
      ]
    },
    {
      "cell_type": "markdown",
      "metadata": {
        "id": "p2GcVUwBLlwe"
      },
      "source": [
        " <div style=\"display: flex; justify-content: center;\">\n",
        "    <img src=\"https://i.imgur.com/yWjBjql.png\" alt=\"Texto alternativo\" width=\"700\">\n",
        "</div>"
      ]
    },
    {
      "cell_type": "markdown",
      "metadata": {
        "id": "QNlW3LJ0Llwe"
      },
      "source": [
        "## Diccionarios con los gustos de los personajes"
      ]
    },
    {
      "cell_type": "code",
      "execution_count": null,
      "metadata": {
        "id": "4HWriH6PLlwf"
      },
      "outputs": [],
      "source": [
        "personajes_dic = {\n",
        "    \"Abigail\": \"Juegos de rol\",\n",
        "    \"Alex\": \"Deportes\",\n",
        "    \"Caroline\": \"Flores\",\n",
        "    \"Clint\": \"Minería\",\n",
        "    \"Demetrius\": \"Investigación científica\",\n",
        "    \"Dwarf\": \"Excavar tesoros\",\n",
        "    \"Elliott\": \"Escritura\",\n",
        "    \"Emily\": \"Diseño de moda\",\n",
        "    \"Evelyn\": \"Tejer\",\n",
        "    \"George\": \"Pesca\",\n",
        "}\n"
      ]
    },
    {
      "cell_type": "code",
      "execution_count": null,
      "metadata": {
        "id": "AoXX3i45Llwf",
        "outputId": "2805823f-6b76-45bb-8770-bbf667ef4f27"
      },
      "outputs": [
        {
          "data": {
            "text/plain": [
              "'Juegos de rol'"
            ]
          },
          "execution_count": 105,
          "metadata": {},
          "output_type": "execute_result"
        }
      ],
      "source": [
        "# ver el hobbie de Abigail\n",
        "personajes_dic[\"Abigail\"]"
      ]
    },
    {
      "cell_type": "code",
      "execution_count": null,
      "metadata": {
        "id": "7ESGlg3-Llwg",
        "outputId": "f62c1796-7ae5-4911-87a9-c7d37a7f3cb3"
      },
      "outputs": [
        {
          "data": {
            "text/plain": [
              "'Deportes'"
            ]
          },
          "execution_count": 106,
          "metadata": {},
          "output_type": "execute_result"
        }
      ],
      "source": [
        "# ver el hobbie de Alex\n",
        "personajes_dic[\"Alex\"]"
      ]
    },
    {
      "cell_type": "code",
      "execution_count": null,
      "metadata": {
        "id": "QkYEQZxCLlwg",
        "outputId": "a369e7fe-645f-421c-9e02-83ef392038ae"
      },
      "outputs": [
        {
          "name": "stdout",
          "output_type": "stream",
          "text": [
            "Hola soy  Abigail y me gusta Juegos de rol\n",
            "Hola soy  Alex y me gusta Deportes\n",
            "Hola soy  Caroline y me gusta Flores\n",
            "Hola soy  Clint y me gusta Minería\n",
            "Hola soy  Demetrius y me gusta Investigación científica\n",
            "Hola soy  Dwarf y me gusta Excavar tesoros\n",
            "Hola soy  Elliott y me gusta Escritura\n",
            "Hola soy  Emily y me gusta Diseño de moda\n",
            "Hola soy  Evelyn y me gusta Tejer\n",
            "Hola soy  George y me gusta Pesca\n"
          ]
        }
      ],
      "source": [
        "for personaje in personajes_dic:\n",
        "    print(f\"Hola soy  {personaje} y me gusta {personajes_dic[personaje]}\")"
      ]
    },
    {
      "cell_type": "markdown",
      "metadata": {
        "id": "ZTprQ6tjLlwg"
      },
      "source": [
        "# Evaluando gustos de los personajes"
      ]
    },
    {
      "cell_type": "markdown",
      "metadata": {
        "id": "fc5AofrrLlwh"
      },
      "source": [
        " <div style=\"display: flex; justify-content: center;\">\n",
        "    <img src=\"https://i.imgur.com/2vIksds.jpg\" alt=\"Texto alternativo\" width=\"800\">\n",
        "</div>"
      ]
    },
    {
      "cell_type": "code",
      "execution_count": null,
      "metadata": {
        "id": "lS1_9rnMLlwh",
        "outputId": "6531fd41-1593-4962-b57e-87919c478897"
      },
      "outputs": [
        {
          "name": "stdout",
          "output_type": "stream",
          "text": [
            "Abigail es una gamer!\n"
          ]
        }
      ],
      "source": [
        "if personajes_dic[\"Abigail\"] == \"Juegos de rol\":\n",
        "     print(\"Abigail es una gamer!\")"
      ]
    },
    {
      "cell_type": "code",
      "execution_count": null,
      "metadata": {
        "id": "kfGwzmOLLlwh",
        "outputId": "5b1b20b4-74c2-4643-a77a-199a259a6240"
      },
      "outputs": [
        {
          "name": "stdout",
          "output_type": "stream",
          "text": [
            "Le gusta\n"
          ]
        }
      ],
      "source": [
        "if personajes_dic[\"Abigail\"] == \"Juegos de rol\":\n",
        "     print(\"Le gusta\")\n",
        "else:\n",
        "    print(\"No le gusta\")"
      ]
    },
    {
      "cell_type": "code",
      "execution_count": null,
      "metadata": {
        "id": "Bd1czOd5Llwi",
        "outputId": "24c42cf7-c2c5-42e4-9a0b-6ed5d2bc2be6"
      },
      "outputs": [
        {
          "name": "stdout",
          "output_type": "stream",
          "text": [
            "Alex no gusto es: Pesca\n"
          ]
        }
      ],
      "source": [
        "personaje = \"Alex\"\n",
        "gusto = \"Pesca\"\n",
        "if personajes_dic[f\"{personaje}\"] == f\"{gusto}\":\n",
        "     print(f\"A {personaje} su gusto es: {gusto}\")\n",
        "else:\n",
        "      print(f\"{personaje} no gusto es: {gusto}\")"
      ]
    },
    {
      "cell_type": "markdown",
      "metadata": {
        "id": "jENZ1JuZLlwi"
      },
      "source": [
        "# Contando todos los gustos de los personajes"
      ]
    },
    {
      "cell_type": "code",
      "execution_count": null,
      "metadata": {
        "id": "8bHL9AF3Llwj"
      },
      "outputs": [],
      "source": [
        "personajes_gustos = {\n",
        "    \"Abigail\": [\"Juegos de rol\", \"Minería\"],\n",
        "    \"Alex\": [\"Deportes\", \"Juegos de rol\", \"Minería\"],\n",
        "    \"Caroline\": [\"Deportes\", \"Escritura\"],\n",
        "    \"Clint\": [\"Minería\", \"Deportes\", \"Escritura\", \"Pesca\"],\n",
        "    \"Demetrius\": [\"Minería\", \"Escritura\"],\n",
        "    \"Dwarf\": [\"Minería\", \"Deportes\", \"Escritura\"],\n",
        "    \"Elliott\": [\"Escritura\", \"Pesca\"],\n",
        "    \"Emily\": [\"Deportes\", \"Escritura\", \"Pesca\"],\n",
        "    \"Evelyn\": [\"Minería\", \"Pesca\"],\n",
        "    \"George\": [\"Pesca\", \"Juegos de rol\"],\n",
        "}"
      ]
    },
    {
      "cell_type": "code",
      "execution_count": null,
      "metadata": {
        "id": "53pRvFjvLlwj"
      },
      "outputs": [],
      "source": [
        "def contar_gustos_personajes(personajes_gustos):\n",
        "    conteo_gustos = {}\n",
        "\n",
        "    for personaje, gustos in personajes_gustos.items():\n",
        "        for gusto in gustos:\n",
        "            if gusto in conteo_gustos:\n",
        "                conteo_gustos[gusto].append(personaje)\n",
        "            else:\n",
        "                conteo_gustos[gusto] = [personaje]\n",
        "\n",
        "    return conteo_gustos"
      ]
    },
    {
      "cell_type": "code",
      "execution_count": null,
      "metadata": {
        "id": "W4ntwRYbLlwj"
      },
      "outputs": [],
      "source": [
        "conteo_gustos_personajes = contar_gustos_personajes(personajes_gustos)"
      ]
    },
    {
      "cell_type": "code",
      "execution_count": null,
      "metadata": {
        "id": "DbgyuzORLlwk",
        "outputId": "a63de1aa-5153-4e13-8a0f-372594635817",
        "colab": {
          "base_uri": "https://localhost:8080/"
        }
      },
      "outputs": [
        {
          "output_type": "stream",
          "name": "stdout",
          "text": [
            "Juegos de rol: 3 personajes - Abigail, Alex, George\n",
            "Minería: 6 personajes - Abigail, Alex, Clint, Demetrius, Dwarf, Evelyn\n",
            "Deportes: 5 personajes - Alex, Caroline, Clint, Dwarf, Emily\n",
            "Escritura: 6 personajes - Caroline, Clint, Demetrius, Dwarf, Elliott, Emily\n",
            "Pesca: 5 personajes - Clint, Elliott, Emily, Evelyn, George\n"
          ]
        }
      ],
      "source": [
        "# Mostrar el conteo de gustos y los personajes correspondientes\n",
        "for gusto, personajes in conteo_gustos_personajes.items():\n",
        "    cantidad_personajes = len(personajes)\n",
        "    lista_personajes = \", \".join(personajes)\n",
        "    print(f\"{gusto}: {cantidad_personajes} personajes - {lista_personajes}\")"
      ]
    },
    {
      "cell_type": "code",
      "execution_count": null,
      "metadata": {
        "id": "9sI3asCHLlwk",
        "outputId": "c8711e5b-94d9-4e6f-fbe0-fc1d88257e21",
        "colab": {
          "base_uri": "https://localhost:8080/"
        }
      },
      "outputs": [
        {
          "output_type": "stream",
          "name": "stdout",
          "text": [
            "Gusto              | Cantidad Personajes | Personajes\n",
            "-----------------------------------------------\n",
            "Juegos de rol     | 3 personajes    | Abigail, Alex, George\n",
            "Minería           | 6 personajes    | Abigail, Alex, Clint, Demetrius, Dwarf, Evelyn\n",
            "Deportes          | 5 personajes    | Alex, Caroline, Clint, Dwarf, Emily\n",
            "Escritura         | 6 personajes    | Caroline, Clint, Demetrius, Dwarf, Elliott, Emily\n",
            "Pesca             | 5 personajes    | Clint, Elliott, Emily, Evelyn, George\n"
          ]
        }
      ],
      "source": [
        "# Mostrar el conteo de gustos como una tabla\n",
        "print(\"Gusto              | Cantidad Personajes | Personajes\")\n",
        "print(\"-----------------------------------------------\")\n",
        "for gusto, personajes in conteo_gustos_personajes.items():\n",
        "    cantidad_personajes = len(personajes)\n",
        "    lista_personajes = \", \".join(personajes)\n",
        "    print(f\"{gusto.ljust(18)}| {cantidad_personajes} personajes    | {lista_personajes}\")"
      ]
    },
    {
      "cell_type": "code",
      "execution_count": null,
      "metadata": {
        "id": "2MPUI--GLlwl",
        "colab": {
          "base_uri": "https://localhost:8080/"
        },
        "outputId": "eb20c49b-6050-49ed-8062-a8152e9b7901"
      },
      "outputs": [
        {
          "output_type": "stream",
          "name": "stdout",
          "text": [
            "Requirement already satisfied: tabulate in /usr/local/lib/python3.10/dist-packages (0.9.0)\n"
          ]
        }
      ],
      "source": [
        "%pip install tabulate\n",
        "from tabulate import tabulate"
      ]
    },
    {
      "cell_type": "code",
      "execution_count": null,
      "metadata": {
        "id": "jcpciq7wLlwl",
        "outputId": "4b203da7-b1cb-4859-e317-d370c179dff1",
        "colab": {
          "base_uri": "https://localhost:8080/"
        }
      },
      "outputs": [
        {
          "output_type": "stream",
          "name": "stdout",
          "text": [
            "+---------------+-----------------------+---------------------------------------------------+\n",
            "| Gusto         |   Cantidad Personajes | Personajes                                        |\n",
            "+===============+=======================+===================================================+\n",
            "| Juegos de rol |                     3 | Abigail, Alex, George                             |\n",
            "+---------------+-----------------------+---------------------------------------------------+\n",
            "| Minería       |                     6 | Abigail, Alex, Clint, Demetrius, Dwarf, Evelyn    |\n",
            "+---------------+-----------------------+---------------------------------------------------+\n",
            "| Deportes      |                     5 | Alex, Caroline, Clint, Dwarf, Emily               |\n",
            "+---------------+-----------------------+---------------------------------------------------+\n",
            "| Escritura     |                     6 | Caroline, Clint, Demetrius, Dwarf, Elliott, Emily |\n",
            "+---------------+-----------------------+---------------------------------------------------+\n",
            "| Pesca         |                     5 | Clint, Elliott, Emily, Evelyn, George             |\n",
            "+---------------+-----------------------+---------------------------------------------------+\n"
          ]
        }
      ],
      "source": [
        "# Crear una lista para cada fila\n",
        "tabla_datos = []\n",
        "for gusto, personajes in conteo_gustos_personajes.items():\n",
        "    cantidad_personajes = len(personajes)\n",
        "    lista_personajes = \", \".join(personajes)\n",
        "    tabla_datos.append((gusto, cantidad_personajes, lista_personajes))\n",
        "\n",
        "# Mostrar la tabla con tabulate\n",
        "print(tabulate(tabla_datos, headers=[\"Gusto\", \"Cantidad Personajes\", \"Personajes\"], tablefmt=\"grid\"))"
      ]
    },
    {
      "cell_type": "markdown",
      "metadata": {
        "id": "XmWBtu3nLlwl"
      },
      "source": [
        "# Guardando el conteo en un archivo"
      ]
    },
    {
      "cell_type": "code",
      "execution_count": null,
      "metadata": {
        "id": "ZT9-XLb7Llwm",
        "colab": {
          "base_uri": "https://localhost:8080/"
        },
        "outputId": "007c48f4-7221-4ee3-e657-bce484fb020f"
      },
      "outputs": [
        {
          "output_type": "stream",
          "name": "stdout",
          "text": [
            "Requirement already satisfied: pandas in /usr/local/lib/python3.10/dist-packages (1.5.3)\n",
            "Requirement already satisfied: python-dateutil>=2.8.1 in /usr/local/lib/python3.10/dist-packages (from pandas) (2.8.2)\n",
            "Requirement already satisfied: pytz>=2020.1 in /usr/local/lib/python3.10/dist-packages (from pandas) (2022.7.1)\n",
            "Requirement already satisfied: numpy>=1.21.0 in /usr/local/lib/python3.10/dist-packages (from pandas) (1.22.4)\n",
            "Requirement already satisfied: six>=1.5 in /usr/local/lib/python3.10/dist-packages (from python-dateutil>=2.8.1->pandas) (1.16.0)\n",
            "Requirement already satisfied: openpyxl in /usr/local/lib/python3.10/dist-packages (3.0.10)\n",
            "Requirement already satisfied: et-xmlfile in /usr/local/lib/python3.10/dist-packages (from openpyxl) (1.1.0)\n"
          ]
        }
      ],
      "source": [
        "%pip install pandas\n",
        "%pip install openpyxl\n",
        "\n",
        "import pandas as pd"
      ]
    },
    {
      "cell_type": "code",
      "execution_count": null,
      "metadata": {
        "id": "jde9d_J0Llwm"
      },
      "outputs": [],
      "source": [
        "# Ingresar los datos en una lista\n",
        "tabla_datos = []\n",
        "for gusto, personajes in conteo_gustos_personajes.items():\n",
        "    cantidad_personajes = len(personajes)\n",
        "    lista_personajes = \", \".join(personajes)\n",
        "    tabla_datos.append((gusto, cantidad_personajes, lista_personajes))"
      ]
    },
    {
      "cell_type": "code",
      "execution_count": null,
      "metadata": {
        "id": "FuU3n5a-Llwm"
      },
      "outputs": [],
      "source": [
        "# Convertir la en un DataFrame\n",
        "df = pd.DataFrame(tabla_datos, columns=[\"Gusto\", \"Cantidad Personajes\", \"Personajes\"])"
      ]
    },
    {
      "cell_type": "code",
      "execution_count": null,
      "metadata": {
        "id": "yqDm3HELLlwn",
        "outputId": "bff80b62-2728-4582-cd30-b79d8076e282",
        "colab": {
          "base_uri": "https://localhost:8080/"
        }
      },
      "outputs": [
        {
          "output_type": "stream",
          "name": "stdout",
          "text": [
            "Los datos se han guardado en el archivo 'conteo_gustos_personajes.xlsx'.\n"
          ]
        }
      ],
      "source": [
        "\n",
        "# Guardar el DataFrame en un archivo Excel\n",
        "nombre_archivo_excel = \"conteo_gustos_personajes.xlsx\"\n",
        "df.to_excel(nombre_archivo_excel, index=False)\n",
        "\n",
        "print(f\"Los datos se han guardado en el archivo '{nombre_archivo_excel}'.\")"
      ]
    },
    {
      "cell_type": "code",
      "source": [
        "\n",
        "import pandas as pd\n",
        "\n",
        "# Reemplaza 'ruta/del/archivo.xlsx' con la ubicación real del archivo Excel\n",
        "ruta_archivo = '/content/conteo_gustos_personajes.xlsx'\n",
        "\n",
        "# Leer el archivo Excel en un DataFrame\n",
        "df = pd.read_excel(ruta_archivo)"
      ],
      "metadata": {
        "id": "M6EJxBOLL0bs"
      },
      "execution_count": null,
      "outputs": []
    },
    {
      "cell_type": "code",
      "source": [
        "df.head(3)"
      ],
      "metadata": {
        "id": "yzlqVvvWMyf0",
        "outputId": "cf10d5f7-e8a9-49e8-dc67-bfa49e91a27e",
        "colab": {
          "base_uri": "https://localhost:8080/",
          "height": 346
        }
      },
      "execution_count": null,
      "outputs": [
        {
          "output_type": "execute_result",
          "data": {
            "text/plain": [
              "           Gusto  Cantidad Personajes  \\\n",
              "0  Juegos de rol                    3   \n",
              "1        Minería                    6   \n",
              "2       Deportes                    5   \n",
              "\n",
              "                                       Personajes  \n",
              "0                           Abigail, Alex, George  \n",
              "1  Abigail, Alex, Clint, Demetrius, Dwarf, Evelyn  \n",
              "2             Alex, Caroline, Clint, Dwarf, Emily  "
            ],
            "text/html": [
              "\n",
              "\n",
              "  <div id=\"df-eb29509b-d55d-40ff-b759-946ce5978cf6\">\n",
              "    <div class=\"colab-df-container\">\n",
              "      <div>\n",
              "<style scoped>\n",
              "    .dataframe tbody tr th:only-of-type {\n",
              "        vertical-align: middle;\n",
              "    }\n",
              "\n",
              "    .dataframe tbody tr th {\n",
              "        vertical-align: top;\n",
              "    }\n",
              "\n",
              "    .dataframe thead th {\n",
              "        text-align: right;\n",
              "    }\n",
              "</style>\n",
              "<table border=\"1\" class=\"dataframe\">\n",
              "  <thead>\n",
              "    <tr style=\"text-align: right;\">\n",
              "      <th></th>\n",
              "      <th>Gusto</th>\n",
              "      <th>Cantidad Personajes</th>\n",
              "      <th>Personajes</th>\n",
              "    </tr>\n",
              "  </thead>\n",
              "  <tbody>\n",
              "    <tr>\n",
              "      <th>0</th>\n",
              "      <td>Juegos de rol</td>\n",
              "      <td>3</td>\n",
              "      <td>Abigail, Alex, George</td>\n",
              "    </tr>\n",
              "    <tr>\n",
              "      <th>1</th>\n",
              "      <td>Minería</td>\n",
              "      <td>6</td>\n",
              "      <td>Abigail, Alex, Clint, Demetrius, Dwarf, Evelyn</td>\n",
              "    </tr>\n",
              "    <tr>\n",
              "      <th>2</th>\n",
              "      <td>Deportes</td>\n",
              "      <td>5</td>\n",
              "      <td>Alex, Caroline, Clint, Dwarf, Emily</td>\n",
              "    </tr>\n",
              "  </tbody>\n",
              "</table>\n",
              "</div>\n",
              "      <button class=\"colab-df-convert\" onclick=\"convertToInteractive('df-eb29509b-d55d-40ff-b759-946ce5978cf6')\"\n",
              "              title=\"Convert this dataframe to an interactive table.\"\n",
              "              style=\"display:none;\">\n",
              "\n",
              "  <svg xmlns=\"http://www.w3.org/2000/svg\" height=\"24px\"viewBox=\"0 0 24 24\"\n",
              "       width=\"24px\">\n",
              "    <path d=\"M0 0h24v24H0V0z\" fill=\"none\"/>\n",
              "    <path d=\"M18.56 5.44l.94 2.06.94-2.06 2.06-.94-2.06-.94-.94-2.06-.94 2.06-2.06.94zm-11 1L8.5 8.5l.94-2.06 2.06-.94-2.06-.94L8.5 2.5l-.94 2.06-2.06.94zm10 10l.94 2.06.94-2.06 2.06-.94-2.06-.94-.94-2.06-.94 2.06-2.06.94z\"/><path d=\"M17.41 7.96l-1.37-1.37c-.4-.4-.92-.59-1.43-.59-.52 0-1.04.2-1.43.59L10.3 9.45l-7.72 7.72c-.78.78-.78 2.05 0 2.83L4 21.41c.39.39.9.59 1.41.59.51 0 1.02-.2 1.41-.59l7.78-7.78 2.81-2.81c.8-.78.8-2.07 0-2.86zM5.41 20L4 18.59l7.72-7.72 1.47 1.35L5.41 20z\"/>\n",
              "  </svg>\n",
              "      </button>\n",
              "\n",
              "\n",
              "\n",
              "    <div id=\"df-97ae4589-4475-4b58-a885-b3184321034a\">\n",
              "      <button class=\"colab-df-quickchart\" onclick=\"quickchart('df-97ae4589-4475-4b58-a885-b3184321034a')\"\n",
              "              title=\"Suggest charts.\"\n",
              "              style=\"display:none;\">\n",
              "\n",
              "<svg xmlns=\"http://www.w3.org/2000/svg\" height=\"24px\"viewBox=\"0 0 24 24\"\n",
              "     width=\"24px\">\n",
              "    <g>\n",
              "        <path d=\"M19 3H5c-1.1 0-2 .9-2 2v14c0 1.1.9 2 2 2h14c1.1 0 2-.9 2-2V5c0-1.1-.9-2-2-2zM9 17H7v-7h2v7zm4 0h-2V7h2v10zm4 0h-2v-4h2v4z\"/>\n",
              "    </g>\n",
              "</svg>\n",
              "      </button>\n",
              "    </div>\n",
              "\n",
              "<style>\n",
              "  .colab-df-quickchart {\n",
              "    background-color: #E8F0FE;\n",
              "    border: none;\n",
              "    border-radius: 50%;\n",
              "    cursor: pointer;\n",
              "    display: none;\n",
              "    fill: #1967D2;\n",
              "    height: 32px;\n",
              "    padding: 0 0 0 0;\n",
              "    width: 32px;\n",
              "  }\n",
              "\n",
              "  .colab-df-quickchart:hover {\n",
              "    background-color: #E2EBFA;\n",
              "    box-shadow: 0px 1px 2px rgba(60, 64, 67, 0.3), 0px 1px 3px 1px rgba(60, 64, 67, 0.15);\n",
              "    fill: #174EA6;\n",
              "  }\n",
              "\n",
              "  [theme=dark] .colab-df-quickchart {\n",
              "    background-color: #3B4455;\n",
              "    fill: #D2E3FC;\n",
              "  }\n",
              "\n",
              "  [theme=dark] .colab-df-quickchart:hover {\n",
              "    background-color: #434B5C;\n",
              "    box-shadow: 0px 1px 3px 1px rgba(0, 0, 0, 0.15);\n",
              "    filter: drop-shadow(0px 1px 2px rgba(0, 0, 0, 0.3));\n",
              "    fill: #FFFFFF;\n",
              "  }\n",
              "</style>\n",
              "\n",
              "    <script>\n",
              "      async function quickchart(key) {\n",
              "        const containerElement = document.querySelector('#' + key);\n",
              "        const charts = await google.colab.kernel.invokeFunction(\n",
              "            'suggestCharts', [key], {});\n",
              "      }\n",
              "    </script>\n",
              "\n",
              "      <script>\n",
              "\n",
              "function displayQuickchartButton(domScope) {\n",
              "  let quickchartButtonEl =\n",
              "    domScope.querySelector('#df-97ae4589-4475-4b58-a885-b3184321034a button.colab-df-quickchart');\n",
              "  quickchartButtonEl.style.display =\n",
              "    google.colab.kernel.accessAllowed ? 'block' : 'none';\n",
              "}\n",
              "\n",
              "        displayQuickchartButton(document);\n",
              "      </script>\n",
              "      <style>\n",
              "    .colab-df-container {\n",
              "      display:flex;\n",
              "      flex-wrap:wrap;\n",
              "      gap: 12px;\n",
              "    }\n",
              "\n",
              "    .colab-df-convert {\n",
              "      background-color: #E8F0FE;\n",
              "      border: none;\n",
              "      border-radius: 50%;\n",
              "      cursor: pointer;\n",
              "      display: none;\n",
              "      fill: #1967D2;\n",
              "      height: 32px;\n",
              "      padding: 0 0 0 0;\n",
              "      width: 32px;\n",
              "    }\n",
              "\n",
              "    .colab-df-convert:hover {\n",
              "      background-color: #E2EBFA;\n",
              "      box-shadow: 0px 1px 2px rgba(60, 64, 67, 0.3), 0px 1px 3px 1px rgba(60, 64, 67, 0.15);\n",
              "      fill: #174EA6;\n",
              "    }\n",
              "\n",
              "    [theme=dark] .colab-df-convert {\n",
              "      background-color: #3B4455;\n",
              "      fill: #D2E3FC;\n",
              "    }\n",
              "\n",
              "    [theme=dark] .colab-df-convert:hover {\n",
              "      background-color: #434B5C;\n",
              "      box-shadow: 0px 1px 3px 1px rgba(0, 0, 0, 0.15);\n",
              "      filter: drop-shadow(0px 1px 2px rgba(0, 0, 0, 0.3));\n",
              "      fill: #FFFFFF;\n",
              "    }\n",
              "  </style>\n",
              "\n",
              "      <script>\n",
              "        const buttonEl =\n",
              "          document.querySelector('#df-eb29509b-d55d-40ff-b759-946ce5978cf6 button.colab-df-convert');\n",
              "        buttonEl.style.display =\n",
              "          google.colab.kernel.accessAllowed ? 'block' : 'none';\n",
              "\n",
              "        async function convertToInteractive(key) {\n",
              "          const element = document.querySelector('#df-eb29509b-d55d-40ff-b759-946ce5978cf6');\n",
              "          const dataTable =\n",
              "            await google.colab.kernel.invokeFunction('convertToInteractive',\n",
              "                                                     [key], {});\n",
              "          if (!dataTable) return;\n",
              "\n",
              "          const docLinkHtml = 'Like what you see? Visit the ' +\n",
              "            '<a target=\"_blank\" href=https://colab.research.google.com/notebooks/data_table.ipynb>data table notebook</a>'\n",
              "            + ' to learn more about interactive tables.';\n",
              "          element.innerHTML = '';\n",
              "          dataTable['output_type'] = 'display_data';\n",
              "          await google.colab.output.renderOutput(dataTable, element);\n",
              "          const docLink = document.createElement('div');\n",
              "          docLink.innerHTML = docLinkHtml;\n",
              "          element.appendChild(docLink);\n",
              "        }\n",
              "      </script>\n",
              "    </div>\n",
              "  </div>\n"
            ]
          },
          "metadata": {},
          "execution_count": 21
        }
      ]
    },
    {
      "cell_type": "code",
      "source": [
        "import matplotlib.pyplot as plt"
      ],
      "metadata": {
        "id": "vOFLCfwQNx19"
      },
      "execution_count": null,
      "outputs": []
    },
    {
      "cell_type": "code",
      "source": [
        "# Paleta de colores azulados\n",
        "colores = ['#1f77b4', '#aec7e8', '#6a99c5', '#4682b4', '#3b5998', '#0077b5']"
      ],
      "metadata": {
        "id": "GtPGH3A9PbuQ"
      },
      "execution_count": null,
      "outputs": []
    },
    {
      "cell_type": "code",
      "source": [
        "\n",
        "# Gráfico de pastel para mostrar la proporción de personajes por gusto\n",
        "plt.pie(df['Cantidad Personajes'], labels=df['Gusto'], colors=colores, autopct='%1.1f%%', wedgeprops={'edgecolor': 'white'})\n",
        "plt.title('Proporción de Gustos de Personajes en Stardew Valley')\n",
        "plt.axis('equal')  # Aspecto circular del gráfico de pastel\n",
        "plt.show()"
      ],
      "metadata": {
        "id": "JafH8sXZNLPz",
        "outputId": "4dc5c354-6b4c-4264-9118-3471327a78cb",
        "colab": {
          "base_uri": "https://localhost:8080/",
          "height": 228
        }
      },
      "execution_count": null,
      "outputs": [
        {
          "output_type": "display_data",
          "data": {
            "text/plain": [
              "<Figure size 640x480 with 1 Axes>"
            ],
            "image/png": "[encoded data removed]"
          },
          "metadata": {}
        }
      ]
    },
    {
      "cell_type": "code",
      "source": [
        "# Gráfico de barras para mostrar la cantidad de personajes por gusto\n",
        "plt.bar(df['Gusto'], df['Cantidad Personajes'], color=colores)\n",
        "plt.xlabel('Gusto')\n",
        "plt.ylabel('Cantidad de Personajes')\n",
        "plt.title('Gustos de Personajes en Stardew Valley')\n",
        "plt.xticks(rotation=45)  # Rotar las etiquetas del eje x para mayor legibilidad\n",
        "plt.show()"
      ],
      "metadata": {
        "id": "E2GJOhWwNnPl",
        "colab": {
          "base_uri": "https://localhost:8080/",
          "height": 268
        },
        "outputId": "9c8be508-eb20-4b83-9e51-31dc21919804"
      },
      "execution_count": null,
      "outputs": [
        {
          "output_type": "display_data",
          "data": {
            "text/plain": [
              "<Figure size 640x480 with 1 Axes>"
            ],
            "image/png": "[encoded data removed]"
          },
          "metadata": {}
        }
      ]
    },
    {
      "cell_type": "code",
      "source": [
        "# Gráfico de área para mostrar la distribución acumulativa de personajes por gusto\n",
        "plt.stackplot(df['Gusto'], df['Cantidad Personajes'], labels=df['Gusto'], colors=colores, alpha=0.7)\n",
        "plt.xlabel('Gusto')\n",
        "plt.ylabel('Cantidad de Personajes')\n",
        "plt.title('Distribución Acumulativa de Gustos de Personajes en Stardew Valley')\n",
        "plt.legend(loc='upper left')\n",
        "plt.xticks(rotation=45)  # Rotar las etiquetas del eje x para mayor legibilidad\n",
        "plt.show()"
      ],
      "metadata": {
        "id": "5BfM2JQ9Nloh",
        "colab": {
          "base_uri": "https://localhost:8080/",
          "height": 253
        },
        "outputId": "455c975a-1cf5-445b-a06c-64b1147f5e20"
      },
      "execution_count": null,
      "outputs": [
        {
          "output_type": "display_data",
          "data": {
            "text/plain": [
              "<Figure size 640x480 with 1 Axes>"
            ],
            "image/png": "[encoded data removed]"
          },
          "metadata": {}
        }
      ]
    },
    {
      "cell_type": "code",
      "source": [
        "# Gráfico de histograma para mostrar la distribución de la cantidad de personajes por gusto\n",
        "plt.hist(df['Cantidad Personajes'], bins=10, color='#1f77b4', edgecolor='white')\n",
        "plt.xlabel('Cantidad de Personajes')\n",
        "plt.ylabel('Frecuencia')\n",
        "plt.title('Distribución de la Cantidad de Personajes por Gusto en Stardew Valley')\n",
        "plt.show()"
      ],
      "metadata": {
        "id": "IbL-U98fNiSd",
        "colab": {
          "base_uri": "https://localhost:8080/",
          "height": 216
        },
        "outputId": "e19ffc67-f2f2-4131-dbe9-ee867355ca61"
      },
      "execution_count": null,
      "outputs": [
        {
          "output_type": "display_data",
          "data": {
            "text/plain": [
              "<Figure size 640x480 with 1 Axes>"
            ],
            "image/png": "[encoded data removed]"
          },
          "metadata": {}
        }
      ]
    }
  ],
  "metadata": {
    "kernelspec": {
      "display_name": "Python 3",
      "language": "python",
      "name": "python3"
    },
    "language_info": {
      "codemirror_mode": {
        "name": "ipython",
        "version": 3
      },
      "file_extension": ".py",
      "mimetype": "text/x-python",
      "name": "python",
      "nbconvert_exporter": "python",
      "pygments_lexer": "ipython3",
      "version": "3.8.0"
    },
    "orig_nbformat": 4,
    "colab": {
      "provenance": [],
      "include_colab_link": true
    }
  },
  "nbformat": 4,
  "nbformat_minor": 0
}